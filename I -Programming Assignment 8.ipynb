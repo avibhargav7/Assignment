{
 "cells": [
  {
   "cell_type": "raw",
   "id": "2c6b986f",
   "metadata": {},
   "source": [
    "1.\tWrite a Python Program to Add Two Matrices?"
   ]
  },
  {
   "cell_type": "code",
   "execution_count": 1,
   "id": "22f755f6",
   "metadata": {},
   "outputs": [
    {
     "name": "stdout",
     "output_type": "stream",
     "text": [
      "Resultant Matrix:\n",
      "[10, 10, 10]\n",
      "[10, 10, 10]\n",
      "[10, 10, 10]\n"
     ]
    }
   ],
   "source": [
    "def add_matrices(matrix1, matrix2):\n",
    "    # Check if the matrices have the same dimensions\n",
    "    if len(matrix1) != len(matrix2) or len(matrix1[0]) != len(matrix2[0]):\n",
    "        return \"Matrices must have the same dimensions for addition.\"\n",
    "\n",
    "    # Initialize a result matrix with zeros of the same dimensions\n",
    "    result = [[0 for _ in range(len(matrix1[0]))] for _ in range(len(matrix1))]\n",
    "\n",
    "    # Perform matrix addition\n",
    "    for i in range(len(matrix1)):\n",
    "        for j in range(len(matrix1[0])):\n",
    "            result[i][j] = matrix1[i][j] + matrix2[i][j]\n",
    "\n",
    "    return result\n",
    "\n",
    "# Input matrices\n",
    "matrix1 = [\n",
    "    [1, 2, 3],\n",
    "    [4, 5, 6],\n",
    "    [7, 8, 9]\n",
    "]\n",
    "\n",
    "matrix2 = [\n",
    "    [9, 8, 7],\n",
    "    [6, 5, 4],\n",
    "    [3, 2, 1]\n",
    "]\n",
    "\n",
    "# Add the matrices\n",
    "result_matrix = add_matrices(matrix1, matrix2)\n",
    "\n",
    "# Display the result\n",
    "if isinstance(result_matrix, str):\n",
    "    print(result_matrix)\n",
    "else:\n",
    "    print(\"Resultant Matrix:\")\n",
    "    for row in result_matrix:\n",
    "        print(row)\n"
   ]
  },
  {
   "cell_type": "raw",
   "id": "51b40de5",
   "metadata": {},
   "source": [
    "2.\tWrite a Python Program to Multiply Two Matrices?"
   ]
  },
  {
   "cell_type": "code",
   "execution_count": 2,
   "id": "a718c213",
   "metadata": {},
   "outputs": [
    {
     "name": "stdout",
     "output_type": "stream",
     "text": [
      "Resultant Matrix:\n",
      "[58, 64]\n",
      "[139, 154]\n"
     ]
    }
   ],
   "source": [
    "def multiply_matrices(matrix1, matrix2):\n",
    "    # Check if matrices can be multiplied\n",
    "    if len(matrix1[0]) != len(matrix2):\n",
    "        return \"Matrices cannot be multiplied. Number of columns in the first matrix must be equal to the number of rows in the second matrix.\"\n",
    "\n",
    "    # Initialize a result matrix with zeros\n",
    "    result = [[0 for _ in range(len(matrix2[0]))] for _ in range(len(matrix1))]\n",
    "\n",
    "    # Perform matrix multiplication\n",
    "    for i in range(len(matrix1)):\n",
    "        for j in range(len(matrix2[0])):\n",
    "            for k in range(len(matrix2)):\n",
    "                result[i][j] += matrix1[i][k] * matrix2[k][j]\n",
    "\n",
    "    return result\n",
    "\n",
    "# Input matrices\n",
    "matrix1 = [\n",
    "    [1, 2, 3],\n",
    "    [4, 5, 6]\n",
    "]\n",
    "\n",
    "matrix2 = [\n",
    "    [7, 8],\n",
    "    [9, 10],\n",
    "    [11, 12]\n",
    "]\n",
    "\n",
    "# Multiply the matrices\n",
    "result_matrix = multiply_matrices(matrix1, matrix2)\n",
    "\n",
    "# Display the result\n",
    "if isinstance(result_matrix, str):\n",
    "    print(result_matrix)\n",
    "else:\n",
    "    print(\"Resultant Matrix:\")\n",
    "    for row in result_matrix:\n",
    "        print(row)\n"
   ]
  },
  {
   "cell_type": "raw",
   "id": "44b08023",
   "metadata": {},
   "source": [
    "3.\tWrite a Python Program to Transpose a Matrix?"
   ]
  },
  {
   "cell_type": "code",
   "execution_count": 3,
   "id": "9a60c422",
   "metadata": {},
   "outputs": [
    {
     "name": "stdout",
     "output_type": "stream",
     "text": [
      "Original Matrix:\n",
      "[1, 2, 3]\n",
      "[4, 5, 6]\n",
      "\n",
      "Transposed Matrix:\n",
      "[1, 4]\n",
      "[2, 5]\n",
      "[3, 6]\n"
     ]
    }
   ],
   "source": [
    "def transpose_matrix(matrix):\n",
    "    # Use nested list comprehension to transpose the matrix\n",
    "    transpose = [[matrix[j][i] for j in range(len(matrix))] for i in range(len(matrix[0]))]\n",
    "    return transpose\n",
    "\n",
    "# Input matrix\n",
    "matrix = [\n",
    "    [1, 2, 3],\n",
    "    [4, 5, 6]\n",
    "]\n",
    "\n",
    "# Transpose the matrix\n",
    "transposed_matrix = transpose_matrix(matrix)\n",
    "\n",
    "# Display the transposed matrix\n",
    "print(\"Original Matrix:\")\n",
    "for row in matrix:\n",
    "    print(row)\n",
    "\n",
    "print(\"\\nTransposed Matrix:\")\n",
    "for row in transposed_matrix:\n",
    "    print(row)\n"
   ]
  },
  {
   "cell_type": "raw",
   "id": "dafa8a3a",
   "metadata": {},
   "source": [
    "4.\tWrite a Python Program to Sort Words in Alphabetic Order?"
   ]
  },
  {
   "cell_type": "code",
   "execution_count": 4,
   "id": "182d671b",
   "metadata": {},
   "outputs": [
    {
     "name": "stdout",
     "output_type": "stream",
     "text": [
      "Original Sentence: Python is a powerful and versatile programming language\n",
      "Sorted Sentence: Python a and is language powerful programming versatile\n"
     ]
    }
   ],
   "source": [
    "def sort_words_alphabetically(sentence):\n",
    "    # Split the sentence into words\n",
    "    words = sentence.split()\n",
    "\n",
    "    # Sort the words alphabetically\n",
    "    sorted_words = sorted(words)\n",
    "\n",
    "    # Join the sorted words to form a sorted sentence\n",
    "    sorted_sentence = ' '.join(sorted_words)\n",
    "\n",
    "    return sorted_sentence\n",
    "\n",
    "# Input sentence\n",
    "sentence = \"Python is a powerful and versatile programming language\"\n",
    "\n",
    "# Sort the words alphabetically\n",
    "sorted_sentence = sort_words_alphabetically(sentence)\n",
    "\n",
    "# Display the sorted sentence\n",
    "print(\"Original Sentence:\", sentence)\n",
    "print(\"Sorted Sentence:\", sorted_sentence)\n"
   ]
  },
  {
   "cell_type": "raw",
   "id": "7cf92e78",
   "metadata": {},
   "source": [
    "5.\tWrite a Python Program to Remove Punctuation From a String?"
   ]
  },
  {
   "cell_type": "code",
   "execution_count": 5,
   "id": "bf33baee",
   "metadata": {},
   "outputs": [
    {
     "name": "stdout",
     "output_type": "stream",
     "text": [
      "Original String: Hello, World! This is an example of removing punctuation.\n",
      "Cleaned String: Hello World This is an example of removing punctuation\n"
     ]
    }
   ],
   "source": [
    "import string\n",
    "\n",
    "def remove_punctuation(input_string):\n",
    "    # Create a translation table to remove punctuation\n",
    "    translator = str.maketrans('', '', string.punctuation)\n",
    "\n",
    "    # Remove punctuation from the input string\n",
    "    clean_string = input_string.translate(translator)\n",
    "\n",
    "    return clean_string\n",
    "\n",
    "# Input string with punctuation\n",
    "input_string = \"Hello, World! This is an example of removing punctuation.\"\n",
    "\n",
    "# Remove punctuation from the string\n",
    "cleaned_string = remove_punctuation(input_string)\n",
    "\n",
    "# Display the cleaned string\n",
    "print(\"Original String:\", input_string)\n",
    "print(\"Cleaned String:\", cleaned_string)\n"
   ]
  },
  {
   "cell_type": "code",
   "execution_count": null,
   "id": "3f3741e7",
   "metadata": {},
   "outputs": [],
   "source": []
  }
 ],
 "metadata": {
  "kernelspec": {
   "display_name": "Python 3 (ipykernel)",
   "language": "python",
   "name": "python3"
  },
  "language_info": {
   "codemirror_mode": {
    "name": "ipython",
    "version": 3
   },
   "file_extension": ".py",
   "mimetype": "text/x-python",
   "name": "python",
   "nbconvert_exporter": "python",
   "pygments_lexer": "ipython3",
   "version": "3.11.3"
  }
 },
 "nbformat": 4,
 "nbformat_minor": 5
}
