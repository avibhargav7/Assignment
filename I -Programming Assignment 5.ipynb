{
 "cells": [
  {
   "cell_type": "raw",
   "id": "1cda2088",
   "metadata": {},
   "source": [
    "1.\tWrite a Python Program to Find LCM?"
   ]
  },
  {
   "cell_type": "code",
   "execution_count": 1,
   "id": "8e08cf9b",
   "metadata": {},
   "outputs": [
    {
     "name": "stdout",
     "output_type": "stream",
     "text": [
      "Enter the first positive integer: 4\n",
      "Enter the second positive integer: 4\n",
      "The LCM of 4 and 4 is: 4\n"
     ]
    }
   ],
   "source": [
    "# Function to find the greatest common divisor (GCD) using Euclidean algorithm\n",
    "def gcd(a, b):\n",
    "    while b:\n",
    "        a, b = b, a % b\n",
    "    return a\n",
    "\n",
    "# Function to find the LCM\n",
    "def lcm(a, b):\n",
    "    return (a * b) // gcd(a, b)\n",
    "\n",
    "# Input: Get two positive integers from the user\n",
    "a = int(input(\"Enter the first positive integer: \"))\n",
    "b = int(input(\"Enter the second positive integer: \"))\n",
    "\n",
    "# Check if both inputs are positive integers\n",
    "if a <= 0 or b <= 0:\n",
    "    print(\"Please enter positive integers.\")\n",
    "else:\n",
    "    # Calculate and print the LCM\n",
    "    result = lcm(a, b)\n",
    "    print(f\"The LCM of {a} and {b} is: {result}\")\n"
   ]
  },
  {
   "cell_type": "raw",
   "id": "83f1fb1d",
   "metadata": {},
   "source": [
    "2.\tWrite a Python Program to Find HCF?"
   ]
  },
  {
   "cell_type": "code",
   "execution_count": 2,
   "id": "1a3352c5",
   "metadata": {},
   "outputs": [
    {
     "name": "stdout",
     "output_type": "stream",
     "text": [
      "Enter the first positive integer: 4\n",
      "Enter the second positive integer: 55\n",
      "The HCF of 4 and 55 is: 1\n"
     ]
    }
   ],
   "source": [
    "# Function to find the greatest common divisor (GCD) using Euclidean algorithm\n",
    "def gcd(a, b):\n",
    "    while b:\n",
    "        a, b = b, a % b\n",
    "    return a\n",
    "\n",
    "# Input: Get two positive integers from the user\n",
    "a = int(input(\"Enter the first positive integer: \"))\n",
    "b = int(input(\"Enter the second positive integer: \"))\n",
    "\n",
    "# Check if both inputs are positive integers\n",
    "if a <= 0 or b <= 0:\n",
    "    print(\"Please enter positive integers.\")\n",
    "else:\n",
    "    # Calculate and print the HCF (GCD)\n",
    "    result = gcd(a, b)\n",
    "    print(f\"The HCF of {a} and {b} is: {result}\")\n"
   ]
  },
  {
   "cell_type": "raw",
   "id": "df223211",
   "metadata": {},
   "source": [
    "3.\tWrite a Python Program to Convert Decimal to Binary, Octal and Hexadecimal?"
   ]
  },
  {
   "cell_type": "code",
   "execution_count": 3,
   "id": "b4ab3d9e",
   "metadata": {},
   "outputs": [
    {
     "name": "stdout",
     "output_type": "stream",
     "text": [
      "Enter a decimal number: 4\n",
      "Binary: 100\n",
      "Octal: 0o4\n",
      "Hexadecimal: 0x4\n"
     ]
    }
   ],
   "source": [
    "# Input: Get a decimal number from the user\n",
    "decimal_number = int(input(\"Enter a decimal number: \"))\n",
    "\n",
    "# Convert to binary, octal, and hexadecimal\n",
    "binary_number = bin(decimal_number)\n",
    "octal_number = oct(decimal_number)\n",
    "hexadecimal_number = hex(decimal_number)\n",
    "\n",
    "# Remove the \"0b\" prefix from the binary representation\n",
    "binary_number = binary_number[2:]\n",
    "\n",
    "# Display the results\n",
    "print(f\"Binary: {binary_number}\")\n",
    "print(f\"Octal: {octal_number}\")\n",
    "print(f\"Hexadecimal: {hexadecimal_number}\")\n"
   ]
  },
  {
   "cell_type": "raw",
   "id": "d38125a9",
   "metadata": {},
   "source": [
    "4.\tWrite a Python Program To Find ASCII value of a character?"
   ]
  },
  {
   "cell_type": "code",
   "execution_count": 4,
   "id": "a7843f48",
   "metadata": {},
   "outputs": [
    {
     "name": "stdout",
     "output_type": "stream",
     "text": [
      "Enter a character: 4\n",
      "The ASCII value of '4' is 52\n"
     ]
    }
   ],
   "source": [
    "# Input: Get a character from the user\n",
    "char = input(\"Enter a character: \")\n",
    "\n",
    "# Use the ord() function to find the ASCII value\n",
    "ascii_value = ord(char)\n",
    "\n",
    "# Display the ASCII value\n",
    "print(f\"The ASCII value of '{char}' is {ascii_value}\")\n"
   ]
  },
  {
   "cell_type": "raw",
   "id": "6d27eeda",
   "metadata": {},
   "source": [
    "5.\tWrite a Python Program to Make a Simple Calculator with 4 basic mathematical operations?"
   ]
  },
  {
   "cell_type": "code",
   "execution_count": null,
   "id": "ace53f03",
   "metadata": {},
   "outputs": [
    {
     "name": "stdout",
     "output_type": "stream",
     "text": [
      "Options:\n",
      "Enter 'add' for addition\n",
      "Enter 'subtract' for subtraction\n",
      "Enter 'multiply' for multiplication\n",
      "Enter 'divide' for division\n",
      "Enter 'quit' to end the program\n",
      ": 3\n",
      "Invalid input\n",
      "Options:\n",
      "Enter 'add' for addition\n",
      "Enter 'subtract' for subtraction\n",
      "Enter 'multiply' for multiplication\n",
      "Enter 'divide' for division\n",
      "Enter 'quit' to end the program\n",
      ": 4\n",
      "Invalid input\n",
      "Options:\n",
      "Enter 'add' for addition\n",
      "Enter 'subtract' for subtraction\n",
      "Enter 'multiply' for multiplication\n",
      "Enter 'divide' for division\n",
      "Enter 'quit' to end the program\n"
     ]
    }
   ],
   "source": [
    "# Function to perform addition\n",
    "def add(x, y):\n",
    "    return x + y\n",
    "\n",
    "# Function to perform subtraction\n",
    "def subtract(x, y):\n",
    "    return x - y\n",
    "\n",
    "# Function to perform multiplication\n",
    "def multiply(x, y):\n",
    "    return x * y\n",
    "\n",
    "# Function to perform division\n",
    "def divide(x, y):\n",
    "    if y == 0:\n",
    "        return \"Cannot divide by zero\"\n",
    "    return x / y\n",
    "\n",
    "# Main calculator loop\n",
    "while True:\n",
    "    print(\"Options:\")\n",
    "    print(\"Enter 'add' for addition\")\n",
    "    print(\"Enter 'subtract' for subtraction\")\n",
    "    print(\"Enter 'multiply' for multiplication\")\n",
    "    print(\"Enter 'divide' for division\")\n",
    "    print(\"Enter 'quit' to end the program\")\n",
    "    \n",
    "    user_input = input(\": \")\n",
    "    \n",
    "    if user_input == \"quit\":\n",
    "        break\n",
    "    elif user_input in (\"add\", \"subtract\", \"multiply\", \"divide\"):\n",
    "        num1 = float(input(\"Enter first number: \"))\n",
    "        num2 = float(input(\"Enter second number: \"))\n",
    "        \n",
    "        if user_input == \"add\":\n",
    "            print(\"Result:\", add(num1, num2))\n",
    "        elif user_input == \"subtract\":\n",
    "            print(\"Result:\", subtract(num1, num2))\n",
    "        elif user_input == \"multiply\":\n",
    "            print(\"Result:\", multiply(num1, num2))\n",
    "        elif user_input == \"divide\":\n",
    "            print(\"Result:\", divide(num1, num2))\n",
    "    else:\n",
    "        print(\"Invalid input\")\n"
   ]
  },
  {
   "cell_type": "code",
   "execution_count": null,
   "id": "4f83a8e8",
   "metadata": {},
   "outputs": [],
   "source": []
  }
 ],
 "metadata": {
  "kernelspec": {
   "display_name": "Python 3 (ipykernel)",
   "language": "python",
   "name": "python3"
  },
  "language_info": {
   "codemirror_mode": {
    "name": "ipython",
    "version": 3
   },
   "file_extension": ".py",
   "mimetype": "text/x-python",
   "name": "python",
   "nbconvert_exporter": "python",
   "pygments_lexer": "ipython3",
   "version": "3.11.3"
  }
 },
 "nbformat": 4,
 "nbformat_minor": 5
}
