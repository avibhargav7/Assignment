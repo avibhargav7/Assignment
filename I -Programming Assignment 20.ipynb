{
 "cells": [
  {
   "cell_type": "raw",
   "id": "ab4b3570",
   "metadata": {},
   "source": [
    "Question1\n",
    "Create a function that takes a list of strings and integers, and filters out the list so that it returns a list of integers only.\n",
    "Examples\n",
    "filter_list([1, 2, 3, \"a\", \"b\", 4]) ➞ [1, 2, 3, 4]\n",
    "\n",
    "filter_list([\"A\", 0, \"Edabit\", 1729, \"Python\", \"1729\"]) ➞ [0, 1729]\n",
    "\n",
    "filter_list([\"Nothing\", \"here\"]) ➞ []"
   ]
  },
  {
   "cell_type": "code",
   "execution_count": 1,
   "id": "0d471be4",
   "metadata": {},
   "outputs": [
    {
     "name": "stdout",
     "output_type": "stream",
     "text": [
      "[1, 2, 3, 4]\n",
      "[0, 1729]\n",
      "[]\n"
     ]
    }
   ],
   "source": [
    "def filter_list(lst):\n",
    "    # Use list comprehension to filter out integers\n",
    "    integers = [x for x in lst if isinstance(x, int)]\n",
    "    return integers\n",
    "\n",
    "# Test the function with examples\n",
    "print(filter_list([1, 2, 3, \"a\", \"b\", 4]))         # [1, 2, 3, 4]\n",
    "print(filter_list([\"A\", 0, \"Edabit\", 1729, \"Python\", \"1729\"]))  # [0, 1729]\n",
    "print(filter_list([\"Nothing\", \"here\"]))             # []\n"
   ]
  },
  {
   "cell_type": "raw",
   "id": "1813336a",
   "metadata": {},
   "source": [
    "Question2\n",
    "Given a list of numbers, create a function which returns the list but with each element's index in the list added to itself. This means you add 0 to the number at index 0, add 1 to the number at index 1, etc...\n",
    "Examples\n",
    "add_indexes([0, 0, 0, 0, 0]) ➞ [0, 1, 2, 3, 4]\n",
    "\n",
    "add_indexes([1, 2, 3, 4, 5]) ➞ [1, 3, 5, 7, 9]\n",
    "\n",
    "add_indexes([5, 4, 3, 2, 1]) ➞ [5, 5, 5, 5, 5]"
   ]
  },
  {
   "cell_type": "code",
   "execution_count": 2,
   "id": "5848e15e",
   "metadata": {},
   "outputs": [
    {
     "name": "stdout",
     "output_type": "stream",
     "text": [
      "[0, 1, 2, 3, 4]\n",
      "[1, 3, 5, 7, 9]\n",
      "[5, 5, 5, 5, 5]\n"
     ]
    }
   ],
   "source": [
    "def add_indexes(lst):\n",
    "    # Use a list comprehension to add the index to each element\n",
    "    result = [i + lst[i] for i in range(len(lst))]\n",
    "    return result\n",
    "\n",
    "# Test the function with examples\n",
    "print(add_indexes([0, 0, 0, 0, 0]))      # [0, 1, 2, 3, 4]\n",
    "print(add_indexes([1, 2, 3, 4, 5]))    # [1, 3, 5, 7, 9]\n",
    "print(add_indexes([5, 4, 3, 2, 1]))    # [5, 5, 5, 5, 5]\n"
   ]
  },
  {
   "cell_type": "raw",
   "id": "7f1c4fbf",
   "metadata": {},
   "source": [
    "Question3\n",
    "Create a function that takes the height and radius of a cone as arguments and returns the volume of the cone rounded to the nearest hundredth. See the resources tab for the formula.\n",
    " \n",
    "Examples\n",
    "cone_volume(3, 2) ➞ 12.57\n",
    "\n",
    "cone_volume(15, 6) ➞ 565.49\n",
    "\n",
    "cone_volume(18, 0) ➞ 0"
   ]
  },
  {
   "cell_type": "code",
   "execution_count": 3,
   "id": "e06f5174",
   "metadata": {},
   "outputs": [
    {
     "name": "stdout",
     "output_type": "stream",
     "text": [
      "12.57\n",
      "565.49\n",
      "0.0\n"
     ]
    }
   ],
   "source": [
    "import math\n",
    "\n",
    "def cone_volume(height, radius):\n",
    "    # Calculate the volume of the cone using the formula (1/3) * π * r^2 * h\n",
    "    volume = (1/3) * math.pi * (radius ** 2) * height\n",
    "    # Round the volume to two decimal places\n",
    "    rounded_volume = round(volume, 2)\n",
    "    return rounded_volume\n",
    "\n",
    "# Test the function with examples\n",
    "print(cone_volume(3, 2))    # 12.57\n",
    "print(cone_volume(15, 6))   # 565.49\n",
    "print(cone_volume(18, 0))   # 0.0\n"
   ]
  },
  {
   "cell_type": "raw",
   "id": "f8ca2f63",
   "metadata": {},
   "source": [
    "Question4\n",
    "This Triangular Number Sequence is generated from a pattern of dots that form a triangle. The first 5 numbers of the sequence, or dots, are: \n",
    "1, 3, 6, 10, 15\n",
    "This means that the first triangle has just one dot, the second one has three dots, the third one has 6 dots and so on.\n",
    "Write a function that gives the number of dots with its corresponding triangle number of the sequence.\n",
    "Examples\n",
    "triangle(1) ➞ 1\n",
    "\n",
    "triangle(6) ➞ 21\n",
    "\n",
    "triangle(215) ➞ 23220"
   ]
  },
  {
   "cell_type": "code",
   "execution_count": 4,
   "id": "ab099683",
   "metadata": {},
   "outputs": [
    {
     "name": "stdout",
     "output_type": "stream",
     "text": [
      "1\n",
      "21\n",
      "23220\n"
     ]
    }
   ],
   "source": [
    "def triangle(n):\n",
    "    # Calculate the nth triangular number using the formula n(n+1)/2\n",
    "    triangular_number = (n * (n + 1)) // 2\n",
    "    return triangular_number\n",
    "\n",
    "# Test the function with examples\n",
    "print(triangle(1))     # 1\n",
    "print(triangle(6))     # 21\n",
    "print(triangle(215))   # 23220\n"
   ]
  },
  {
   "cell_type": "raw",
   "id": "f684df81",
   "metadata": {},
   "source": [
    "Question5\n",
    "Create a function that takes a list of numbers between 1 and 10 (excluding one number) and returns the missing number.\n",
    "Examples\n",
    "missing_num([1, 2, 3, 4, 6, 7, 8, 9, 10]) ➞ 5\n",
    "\n",
    "missing_num([7, 2, 3, 6, 5, 9, 1, 4, 8]) ➞ 10\n",
    "\n",
    "missing_num([10, 5, 1, 2, 4, 6, 8, 3, 9]) ➞ 7"
   ]
  },
  {
   "cell_type": "code",
   "execution_count": 5,
   "id": "e96a186f",
   "metadata": {},
   "outputs": [
    {
     "name": "stdout",
     "output_type": "stream",
     "text": [
      "5\n",
      "10\n",
      "7\n"
     ]
    }
   ],
   "source": [
    "def missing_num(lst):\n",
    "    # Calculate the sum of numbers from 1 to 10 (inclusive)\n",
    "    expected_sum = sum(range(1, 11))\n",
    "    # Calculate the actual sum of the given list\n",
    "    actual_sum = sum(lst)\n",
    "    # Find the missing number by subtracting the actual sum from the expected sum\n",
    "    missing_number = expected_sum - actual_sum\n",
    "    return missing_number\n",
    "\n",
    "# Test the function with examples\n",
    "print(missing_num([1, 2, 3, 4, 6, 7, 8, 9, 10]))   # 5\n",
    "print(missing_num([7, 2, 3, 6, 5, 9, 1, 4, 8]))    # 10\n",
    "print(missing_num([10, 5, 1, 2, 4, 6, 8, 3, 9]))   # 7\n"
   ]
  },
  {
   "cell_type": "code",
   "execution_count": null,
   "id": "73c59a4c",
   "metadata": {},
   "outputs": [],
   "source": []
  }
 ],
 "metadata": {
  "kernelspec": {
   "display_name": "Python 3 (ipykernel)",
   "language": "python",
   "name": "python3"
  },
  "language_info": {
   "codemirror_mode": {
    "name": "ipython",
    "version": 3
   },
   "file_extension": ".py",
   "mimetype": "text/x-python",
   "name": "python",
   "nbconvert_exporter": "python",
   "pygments_lexer": "ipython3",
   "version": "3.11.3"
  }
 },
 "nbformat": 4,
 "nbformat_minor": 5
}
