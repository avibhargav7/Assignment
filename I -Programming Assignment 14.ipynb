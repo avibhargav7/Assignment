{
 "cells": [
  {
   "cell_type": "raw",
   "id": "d1abb671",
   "metadata": {},
   "source": [
    "Question 1:\n",
    "\n",
    "Define a class with a generator which can iterate the numbers, which are divisible by 7, between a given range 0 and n."
   ]
  },
  {
   "cell_type": "code",
   "execution_count": 1,
   "id": "5ffebb0a",
   "metadata": {},
   "outputs": [
    {
     "name": "stdout",
     "output_type": "stream",
     "text": [
      "Enter the value of n: 5\n",
      "Numbers divisible by 7 between 0 and 5 :\n",
      "0\n"
     ]
    }
   ],
   "source": [
    "class DivisibleBySeven:\n",
    "    def __init__(self, n):\n",
    "        self.n = n\n",
    "\n",
    "    def generate_divisible_by_seven(self):\n",
    "        for num in range(self.n + 1):\n",
    "            if num % 7 == 0:\n",
    "                yield num\n",
    "\n",
    "# Input the value of n\n",
    "n = int(input(\"Enter the value of n: \"))\n",
    "\n",
    "# Create an instance of the class\n",
    "divisible_by_seven_obj = DivisibleBySeven(n)\n",
    "\n",
    "# Use the generator to iterate through numbers divisible by 7\n",
    "print(\"Numbers divisible by 7 between 0 and\", n, \":\")\n",
    "for num in divisible_by_seven_obj.generate_divisible_by_seven():\n",
    "    print(num)\n"
   ]
  },
  {
   "cell_type": "raw",
   "id": "21db4d22",
   "metadata": {},
   "source": [
    "Question 2:\n",
    "Write a program to compute the frequency of the words from the input. The output should output after sorting the key alphanumerically. \n",
    "\n",
    "Suppose the following input is supplied to the program:\n",
    "\n",
    "New to Python or choosing between Python 2 and Python 3? Read Python 2 or Python 3.\n",
    "\n",
    "Then, the output should be:\n",
    "\n",
    "2:2\n",
    "\n",
    "3.:1\n",
    "\n",
    "3?:1\n",
    "\n",
    "New:1\n",
    "\n",
    "Python:5\n",
    "\n",
    "Read:1\n",
    "\n",
    "and:1\n",
    "\n",
    "between:1\n",
    "\n",
    "choosing:1\n",
    "\n",
    "or:2\n",
    "\n",
    "to:1"
   ]
  },
  {
   "cell_type": "code",
   "execution_count": 2,
   "id": "46c27fc3",
   "metadata": {},
   "outputs": [
    {
     "name": "stdout",
     "output_type": "stream",
     "text": [
      "Enter a sentence: 56\n",
      "56:1\n"
     ]
    }
   ],
   "source": [
    "# Input a sentence\n",
    "sentence = input(\"Enter a sentence: \")\n",
    "\n",
    "# Split the sentence into words\n",
    "words = sentence.split()\n",
    "\n",
    "# Create a dictionary to store word frequencies\n",
    "word_freq = {}\n",
    "\n",
    "# Iterate through each word and update the frequency\n",
    "for word in words:\n",
    "    word_freq[word] = word_freq.get(word, 0) + 1\n",
    "\n",
    "# Sort the dictionary by keys in alphanumeric order\n",
    "sorted_word_freq = sorted(word_freq.items(), key=lambda x: x[0])\n",
    "\n",
    "# Print the sorted word frequencies\n",
    "for word, freq in sorted_word_freq:\n",
    "    print(f\"{word}:{freq}\")\n"
   ]
  },
  {
   "cell_type": "raw",
   "id": "49ce6acc",
   "metadata": {},
   "source": [
    "Question 3:\n",
    "\n",
    "\n",
    "\n",
    "Define a class Person and its two child classes: Male and Female. All classes have a method \"getGender\" which can print \"Male\" for Male class and \"Female\" for Female class."
   ]
  },
  {
   "cell_type": "code",
   "execution_count": 3,
   "id": "69521588",
   "metadata": {},
   "outputs": [
    {
     "name": "stdout",
     "output_type": "stream",
     "text": [
      "Person's gender: Unknown\n",
      "Male's gender: Male\n",
      "Female's gender: Female\n"
     ]
    }
   ],
   "source": [
    "class Person:\n",
    "    def getGender(self):\n",
    "        return \"Unknown\"\n",
    "\n",
    "class Male(Person):\n",
    "    def getGender(self):\n",
    "        return \"Male\"\n",
    "\n",
    "class Female(Person):\n",
    "    def getGender(self):\n",
    "        return \"Female\"\n",
    "\n",
    "# Create instances of the classes\n",
    "person = Person()\n",
    "male = Male()\n",
    "female = Female()\n",
    "\n",
    "# Call the getGender method for each instance\n",
    "print(\"Person's gender:\", person.getGender())\n",
    "print(\"Male's gender:\", male.getGender())\n",
    "print(\"Female's gender:\", female.getGender())\n"
   ]
  },
  {
   "cell_type": "raw",
   "id": "9be5f31b",
   "metadata": {},
   "source": [
    "Question 4:\n",
    "Please write a program to generate all sentences where subject is in [\"I\", \"You\"] and verb is in [\"Play\", \"Love\"] and the object is in [\"Hockey\",\"Football\"]."
   ]
  },
  {
   "cell_type": "code",
   "execution_count": 4,
   "id": "82c0748f",
   "metadata": {},
   "outputs": [
    {
     "name": "stdout",
     "output_type": "stream",
     "text": [
      "I Play Hockey.\n",
      "I Play Football.\n",
      "I Love Hockey.\n",
      "I Love Football.\n",
      "You Play Hockey.\n",
      "You Play Football.\n",
      "You Love Hockey.\n",
      "You Love Football.\n"
     ]
    }
   ],
   "source": [
    "# Lists of subjects, verbs, and objects\n",
    "subjects = [\"I\", \"You\"]\n",
    "verbs = [\"Play\", \"Love\"]\n",
    "objects = [\"Hockey\", \"Football\"]\n",
    "\n",
    "# Generate and print all possible sentences\n",
    "for subject in subjects:\n",
    "    for verb in verbs:\n",
    "        for obj in objects:\n",
    "            sentence = f\"{subject} {verb} {obj}.\"\n",
    "            print(sentence)\n"
   ]
  },
  {
   "cell_type": "raw",
   "id": "1ba89073",
   "metadata": {},
   "source": [
    "Question 5:\n",
    "Please write a program to compress and decompress the string \"hello world!hello world!hello world!hello world!\"."
   ]
  },
  {
   "cell_type": "code",
   "execution_count": 5,
   "id": "bfd5d71d",
   "metadata": {},
   "outputs": [
    {
     "name": "stdout",
     "output_type": "stream",
     "text": [
      "Original String: hello world!hello world!hello world!hello world!\n",
      "Compressed Data: b'x\\x9c\\xcbH\\xcd\\xc9\\xc9W(\\xcf/\\xcaIQ\\xcc \\x82\\r\\x00\\xbd[\\x11\\xf5'\n",
      "Decompressed String: hello world!hello world!hello world!hello world!\n"
     ]
    }
   ],
   "source": [
    "import zlib\n",
    "\n",
    "# Original string\n",
    "original_string = \"hello world!hello world!hello world!hello world!\"\n",
    "\n",
    "# Compress the string\n",
    "compressed_data = zlib.compress(original_string.encode(\"utf-8\"))\n",
    "\n",
    "# Decompress the string\n",
    "decompressed_string = zlib.decompress(compressed_data).decode(\"utf-8\")\n",
    "\n",
    "# Print the results\n",
    "print(\"Original String:\", original_string)\n",
    "print(\"Compressed Data:\", compressed_data)\n",
    "print(\"Decompressed String:\", decompressed_string)\n"
   ]
  },
  {
   "cell_type": "raw",
   "id": "45b77f3b",
   "metadata": {},
   "source": [
    "Question 6:\n",
    "Please write a binary search function which searches an item in a sorted list. The function should return the index of element to be searched in the list."
   ]
  },
  {
   "cell_type": "code",
   "execution_count": 6,
   "id": "314a36f0",
   "metadata": {},
   "outputs": [
    {
     "name": "stdout",
     "output_type": "stream",
     "text": [
      "Element 7 found at index 3.\n"
     ]
    }
   ],
   "source": [
    "def binary_search(arr, target):\n",
    "    left, right = 0, len(arr) - 1\n",
    "\n",
    "    while left <= right:\n",
    "        mid = left + (right - left) // 2\n",
    "\n",
    "        if arr[mid] == target:\n",
    "            return mid\n",
    "        elif arr[mid] < target:\n",
    "            left = mid + 1\n",
    "        else:\n",
    "            right = mid - 1\n",
    "\n",
    "    return -1  # Element not found\n",
    "\n",
    "# Example usage:\n",
    "sorted_list = [1, 3, 5, 7, 9, 11, 13]\n",
    "target_element = 7\n",
    "\n",
    "result = binary_search(sorted_list, target_element)\n",
    "\n",
    "if result != -1:\n",
    "    print(f\"Element {target_element} found at index {result}.\")\n",
    "else:\n",
    "    print(f\"Element {target_element} not found in the list.\")\n"
   ]
  },
  {
   "cell_type": "code",
   "execution_count": null,
   "id": "ee6a825f",
   "metadata": {},
   "outputs": [],
   "source": []
  },
  {
   "cell_type": "code",
   "execution_count": null,
   "id": "e29134fd",
   "metadata": {},
   "outputs": [],
   "source": []
  }
 ],
 "metadata": {
  "kernelspec": {
   "display_name": "Python 3 (ipykernel)",
   "language": "python",
   "name": "python3"
  },
  "language_info": {
   "codemirror_mode": {
    "name": "ipython",
    "version": 3
   },
   "file_extension": ".py",
   "mimetype": "text/x-python",
   "name": "python",
   "nbconvert_exporter": "python",
   "pygments_lexer": "ipython3",
   "version": "3.11.3"
  }
 },
 "nbformat": 4,
 "nbformat_minor": 5
}
