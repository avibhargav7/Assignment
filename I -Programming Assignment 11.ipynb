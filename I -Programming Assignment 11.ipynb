{
 "cells": [
  {
   "cell_type": "raw",
   "id": "321a9620",
   "metadata": {},
   "source": [
    "1.\tWrite a Python program to find words which are greater than given length k?"
   ]
  },
  {
   "cell_type": "code",
   "execution_count": 1,
   "id": "eac31c8d",
   "metadata": {},
   "outputs": [
    {
     "name": "stdout",
     "output_type": "stream",
     "text": [
      "Words greater than length 5 in the text:\n",
      "sample\n",
      "sentence\n",
      "greater\n",
      "length\n",
      "Python\n",
      "programming.\n"
     ]
    }
   ],
   "source": [
    "# Function to find words greater than length k in a string\n",
    "def find_words_greater_than_k(text, k):\n",
    "    # Split the input text into words\n",
    "    words = text.split()\n",
    "\n",
    "    # Initialize a list to store words greater than length k\n",
    "    result = []\n",
    "\n",
    "    # Iterate through the words and check their lengths\n",
    "    for word in words:\n",
    "        if len(word) > k:\n",
    "            result.append(word)\n",
    "\n",
    "    return result\n",
    "\n",
    "# Input text\n",
    "input_text = \"This is a sample sentence to find words greater than a given length k in Python programming.\"\n",
    "\n",
    "# Specify the minimum length (k) for words\n",
    "k = 5\n",
    "\n",
    "# Call the function to find words greater than length k\n",
    "result_words = find_words_greater_than_k(input_text, k)\n",
    "\n",
    "# Print the result\n",
    "if result_words:\n",
    "    print(f\"Words greater than length {k} in the text:\")\n",
    "    for word in result_words:\n",
    "        print(word)\n",
    "else:\n",
    "    print(f\"No words greater than length {k} found in the text.\")\n"
   ]
  },
  {
   "cell_type": "raw",
   "id": "4c9620ba",
   "metadata": {},
   "source": [
    "2. Write a Python program for removing i-th character from a string?"
   ]
  },
  {
   "cell_type": "code",
   "execution_count": 2,
   "id": "ef9d5e9c",
   "metadata": {},
   "outputs": [
    {
     "name": "stdout",
     "output_type": "stream",
     "text": [
      "String after removing character at index 2: Pyhon\n"
     ]
    }
   ],
   "source": [
    "# Function to remove i-th character from a string\n",
    "def remove_ith_character(input_string, i):\n",
    "    if i < 0 or i >= len(input_string):\n",
    "        return \"Index out of range\"\n",
    "    else:\n",
    "        return input_string[:i] + input_string[i+1:]\n",
    "\n",
    "# Input string\n",
    "input_string = \"Python\"\n",
    "\n",
    "# Specify the index (i) of the character to remove\n",
    "i = 2  # This will remove the character at index 2 (0-based index)\n",
    "\n",
    "# Call the function to remove the i-th character\n",
    "result_string = remove_ith_character(input_string, i)\n",
    "\n",
    "# Print the result\n",
    "print(f\"String after removing character at index {i}: {result_string}\")"
   ]
  },
  {
   "cell_type": "raw",
   "id": "eb5a5e92",
   "metadata": {},
   "source": [
    "3.\tWrite a Python program to split and join a string?"
   ]
  },
  {
   "cell_type": "code",
   "execution_count": 3,
   "id": "a4e406ad",
   "metadata": {},
   "outputs": [
    {
     "name": "stdout",
     "output_type": "stream",
     "text": [
      "Original string: This is a sample string for splitting and joining.\n",
      "Joined string with '-' as delimiter:\n",
      "This-is-a-sample-string-for-splitting-and-joining.\n"
     ]
    }
   ],
   "source": [
    "# Sample input string\n",
    "input_string = \"This is a sample string for splitting and joining.\"\n",
    "\n",
    "# Split the input string into a list of words\n",
    "words = input_string.split()\n",
    "\n",
    "# Join the words back into a single string with a different delimiter\n",
    "delimiter = \"-\"\n",
    "joined_string = delimiter.join(words)\n",
    "\n",
    "# Print the original and joined strings\n",
    "print(\"Original string:\", input_string)\n",
    "print(\"Joined string with '{}' as delimiter:\".format(delimiter))\n",
    "print(joined_string)\n"
   ]
  },
  {
   "cell_type": "raw",
   "id": "3aceb2c8",
   "metadata": {},
   "source": [
    "4.\tWrite a Python to check if a given string is binary string or not?"
   ]
  },
  {
   "cell_type": "code",
   "execution_count": 4,
   "id": "47af6134",
   "metadata": {},
   "outputs": [
    {
     "name": "stdout",
     "output_type": "stream",
     "text": [
      "'101010101' is a binary string.\n"
     ]
    }
   ],
   "source": [
    "#Using a loop\n",
    "\n",
    "# Function to check if a string is a binary string\n",
    "def is_binary_string(input_string):\n",
    "    # Iterate through each character in the string\n",
    "    for char in input_string:\n",
    "        if char != '0' and char != '1':\n",
    "            return False\n",
    "    return True\n",
    "\n",
    "# Input string\n",
    "input_string = \"101010101\"\n",
    "\n",
    "# Check if it's a binary string\n",
    "if is_binary_string(input_string):\n",
    "    print(f\"'{input_string}' is a binary string.\")\n",
    "else:\n",
    "    print(f\"'{input_string}' is not a binary string.\")\n"
   ]
  },
  {
   "cell_type": "code",
   "execution_count": 5,
   "id": "55ff55c0",
   "metadata": {},
   "outputs": [
    {
     "name": "stdout",
     "output_type": "stream",
     "text": [
      "'101010101' is a binary string.\n"
     ]
    }
   ],
   "source": [
    "#Using Regular Expressions\n",
    "\n",
    "import re\n",
    "\n",
    "# Function to check if a string is a binary string using regular expressions\n",
    "def is_binary_string(input_string):\n",
    "    pattern = \"^[01]+$\"\n",
    "    return bool(re.match(pattern, input_string))\n",
    "\n",
    "# Input string\n",
    "input_string = \"101010101\"\n",
    "\n",
    "# Check if it's a binary string\n",
    "if is_binary_string(input_string):\n",
    "    print(f\"'{input_string}' is a binary string.\")\n",
    "else:\n",
    "    print(f\"'{input_string}' is not a binary string.\")\n"
   ]
  },
  {
   "cell_type": "raw",
   "id": "83e7975a",
   "metadata": {},
   "source": [
    "5.\tWrite a Python program to find uncommon words from two Strings?"
   ]
  },
  {
   "cell_type": "code",
   "execution_count": 6,
   "id": "db9e7f85",
   "metadata": {},
   "outputs": [
    {
     "name": "stdout",
     "output_type": "stream",
     "text": [
      "Uncommon words between the two strings:\n",
      "first\n",
      "different\n",
      "words\n",
      "with\n",
      "second\n"
     ]
    }
   ],
   "source": [
    "# Function to find uncommon words between two strings\n",
    "def find_uncommon_words(string1, string2):\n",
    "    # Split the strings into words and convert them to sets\n",
    "    words1 = set(string1.split())\n",
    "    words2 = set(string2.split())\n",
    "    \n",
    "    # Find uncommon words using symmetric difference\n",
    "    uncommon_words = words1.symmetric_difference(words2)\n",
    "    \n",
    "    return uncommon_words\n",
    "\n",
    "# Input strings\n",
    "string1 = \"This is the first string\"\n",
    "string2 = \"This is the second string with different words\"\n",
    "\n",
    "# Call the function to find uncommon words\n",
    "result = find_uncommon_words(string1, string2)\n",
    "\n",
    "# Print the uncommon words\n",
    "print(\"Uncommon words between the two strings:\")\n",
    "for word in result:\n",
    "    print(word)\n"
   ]
  },
  {
   "cell_type": "code",
   "execution_count": 7,
   "id": "a931601b",
   "metadata": {},
   "outputs": [
    {
     "name": "stdout",
     "output_type": "stream",
     "text": [
      "Uncommon words between the two strings:\n",
      "first\n",
      "different\n",
      "words\n",
      "with\n",
      "second\n"
     ]
    }
   ],
   "source": [
    "# Function to find uncommon words between two strings\n",
    "def find_uncommon_words(string1, string2):\n",
    "    # Split the strings into words\n",
    "    words1 = string1.split()\n",
    "    words2 = string2.split()\n",
    "    \n",
    "    # Convert the word lists into sets for efficient comparison\n",
    "    set1 = set(words1)\n",
    "    set2 = set(words2)\n",
    "    \n",
    "    # Find uncommon words using set operations\n",
    "    uncommon_words = set1.symmetric_difference(set2)\n",
    "    \n",
    "    return uncommon_words\n",
    "\n",
    "# Input strings\n",
    "string1 = \"This is the first string\"\n",
    "string2 = \"This is the second string with different words\"\n",
    "\n",
    "# Call the function to find uncommon words\n",
    "result = find_uncommon_words(string1, string2)\n",
    "\n",
    "# Print the uncommon words\n",
    "print(\"Uncommon words between the two strings:\")\n",
    "for word in result:\n",
    "    print(word)\n"
   ]
  },
  {
   "cell_type": "raw",
   "id": "60c7c882",
   "metadata": {},
   "source": [
    "6.\tWrite a Python to find all duplicate characters in string?"
   ]
  },
  {
   "cell_type": "code",
   "execution_count": 8,
   "id": "eecc621e",
   "metadata": {},
   "outputs": [
    {
     "name": "stdout",
     "output_type": "stream",
     "text": [
      "Duplicate characters in the string: ['r', 'm', 'g']\n"
     ]
    }
   ],
   "source": [
    "# Function to find all duplicate characters in a string\n",
    "def find_duplicate_characters(input_string):\n",
    "    # Initialize an empty list to store duplicate characters\n",
    "    duplicates = []\n",
    "    \n",
    "    # Create a set to keep track of seen characters\n",
    "    seen_characters = set()\n",
    "    \n",
    "    # Iterate through the string\n",
    "    for char in input_string:\n",
    "        # Check if the character is in the set of seen characters\n",
    "        if char in seen_characters:\n",
    "            # If it's already seen, add it to the duplicates list\n",
    "            duplicates.append(char)\n",
    "        else:\n",
    "            # Otherwise, add it to the set of seen characters\n",
    "            seen_characters.add(char)\n",
    "    \n",
    "    return duplicates\n",
    "\n",
    "# Input string\n",
    "input_string = \"programming\"\n",
    "\n",
    "# Call the function to find duplicate characters\n",
    "result = find_duplicate_characters(input_string)\n",
    "\n",
    "# Print the duplicate characters\n",
    "if result:\n",
    "    print(\"Duplicate characters in the string:\", result)\n",
    "else:\n",
    "    print(\"No duplicate characters found in the string.\")\n"
   ]
  },
  {
   "cell_type": "code",
   "execution_count": 9,
   "id": "7bbd4ee2",
   "metadata": {},
   "outputs": [
    {
     "name": "stdout",
     "output_type": "stream",
     "text": [
      "Duplicate characters in the string: ['r', 'g', 'm']\n"
     ]
    }
   ],
   "source": [
    "# Function to find all duplicate characters in a string\n",
    "def find_duplicate_characters(input_string):\n",
    "    # Initialize an empty dictionary to store character frequencies\n",
    "    char_count = {}\n",
    "    \n",
    "    # Initialize an empty list to store duplicate characters\n",
    "    duplicates = []\n",
    "    \n",
    "    # Iterate through the string\n",
    "    for char in input_string:\n",
    "        # If the character is already in the dictionary, increment its count\n",
    "        if char in char_count:\n",
    "            char_count[char] += 1\n",
    "        else:\n",
    "            # Otherwise, add it to the dictionary with a count of 1\n",
    "            char_count[char] = 1\n",
    "    \n",
    "    # Iterate through the dictionary to find characters with counts > 1\n",
    "    for char, count in char_count.items():\n",
    "        if count > 1:\n",
    "            duplicates.append(char)\n",
    "    \n",
    "    return duplicates\n",
    "\n",
    "# Input string\n",
    "input_string = \"programming\"\n",
    "\n",
    "# Call the function to find duplicate characters\n",
    "result = find_duplicate_characters(input_string)\n",
    "\n",
    "# Print the duplicate characters\n",
    "if result:\n",
    "    print(\"Duplicate characters in the string:\", result)\n",
    "else:\n",
    "    print(\"No duplicate characters found in the string.\")\n"
   ]
  },
  {
   "cell_type": "raw",
   "id": "bb5747c3",
   "metadata": {},
   "source": [
    "7.\tWrite a Python Program to check if a string contains any special character?"
   ]
  },
  {
   "cell_type": "code",
   "execution_count": 10,
   "id": "c3659c54",
   "metadata": {},
   "outputs": [
    {
     "name": "stdout",
     "output_type": "stream",
     "text": [
      "The string does not contain any special characters.\n"
     ]
    }
   ],
   "source": [
    "import re\n",
    "\n",
    "# Function to check if a string contains any special character\n",
    "def contains_special_character(input_string):\n",
    "    # Define a regular expression pattern for special characters\n",
    "    pattern = r'[!@#$%^&*()_+{}\\[\\]:;<>,.?~\\\\|]'\n",
    "    \n",
    "    # Use re.search() to find a match\n",
    "    if re.search(pattern, input_string):\n",
    "        return True\n",
    "    else:\n",
    "        return False\n",
    "\n",
    "# Input string\n",
    "input_string = \"HelloWorld123\"\n",
    "\n",
    "# Call the function to check for special characters\n",
    "if contains_special_character(input_string):\n",
    "    print(\"The string contains special characters.\")\n",
    "else:\n",
    "    print(\"The string does not contain any special characters.\")\n"
   ]
  },
  {
   "cell_type": "code",
   "execution_count": null,
   "id": "ec124223",
   "metadata": {},
   "outputs": [],
   "source": []
  }
 ],
 "metadata": {
  "kernelspec": {
   "display_name": "Python 3 (ipykernel)",
   "language": "python",
   "name": "python3"
  },
  "language_info": {
   "codemirror_mode": {
    "name": "ipython",
    "version": 3
   },
   "file_extension": ".py",
   "mimetype": "text/x-python",
   "name": "python",
   "nbconvert_exporter": "python",
   "pygments_lexer": "ipython3",
   "version": "3.11.3"
  }
 },
 "nbformat": 4,
 "nbformat_minor": 5
}
