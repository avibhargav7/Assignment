{
 "cells": [
  {
   "cell_type": "raw",
   "id": "eab49248",
   "metadata": {},
   "source": [
    "1.\tWrite a Python program to find sum of elements in list?"
   ]
  },
  {
   "cell_type": "code",
   "execution_count": null,
   "id": "50aae18f",
   "metadata": {},
   "outputs": [],
   "source": []
  },
  {
   "cell_type": "code",
   "execution_count": 2,
   "id": "bd174cfd",
   "metadata": {},
   "outputs": [
    {
     "name": "stdout",
     "output_type": "stream",
     "text": [
      "The sum of elements in the list is: 15\n"
     ]
    }
   ],
   "source": [
    "#1. Using a for loop\n",
    "\n",
    "# Sample list of numbers\n",
    "numbers = [1, 2, 3, 4, 5]\n",
    "\n",
    "# Initialize a variable to store the sum\n",
    "total_sum = 0\n",
    "\n",
    "# Iterate through the list and add each element to the sum\n",
    "for num in numbers:\n",
    "    total_sum += num\n",
    "\n",
    "# Print the sum\n",
    "print(\"The sum of elements in the list is:\", total_sum)"
   ]
  },
  {
   "cell_type": "code",
   "execution_count": 3,
   "id": "98f1de77",
   "metadata": {},
   "outputs": [
    {
     "name": "stdout",
     "output_type": "stream",
     "text": [
      "The sum of elements in the list is: 15\n"
     ]
    }
   ],
   "source": [
    "# Using a sum() function\n",
    "\n",
    "# Sample list of numbers\n",
    "numbers = [1, 2, 3, 4, 5]\n",
    "\n",
    "# Use the sum() function to find the sum of elements in the list\n",
    "total_sum = sum(numbers)\n",
    "\n",
    "# Print the sum\n",
    "print(\"The sum of elements in the list is:\", total_sum)\n"
   ]
  },
  {
   "cell_type": "raw",
   "id": "f11817bd",
   "metadata": {},
   "source": [
    "2.\tWrite a Python program to  Multiply all numbers in the list?"
   ]
  },
  {
   "cell_type": "code",
   "execution_count": 4,
   "id": "33f0ba93",
   "metadata": {},
   "outputs": [
    {
     "name": "stdout",
     "output_type": "stream",
     "text": [
      "The product of all numbers in the list is: 120\n"
     ]
    }
   ],
   "source": [
    "#Using a for loop:\n",
    "\n",
    "# Sample list of numbers\n",
    "numbers = [1, 2, 3, 4, 5]\n",
    "\n",
    "# Initialize a variable to store the product\n",
    "total_product = 1  # Initialize to 1 because multiplying by 0 would always result in 0\n",
    "\n",
    "# Iterate through the list and multiply each element to the product\n",
    "for num in numbers:\n",
    "    total_product *= num\n",
    "\n",
    "# Print the product\n",
    "print(\"The product of all numbers in the list is:\", total_product)\n"
   ]
  },
  {
   "cell_type": "code",
   "execution_count": 5,
   "id": "626f8722",
   "metadata": {},
   "outputs": [
    {
     "name": "stdout",
     "output_type": "stream",
     "text": [
      "The product of all numbers in the list is: 120\n"
     ]
    }
   ],
   "source": [
    "#Using the reduce() function (requires importing functools):\n",
    "\n",
    "\n",
    "from functools import reduce\n",
    "\n",
    "# Sample list of numbers\n",
    "numbers = [1, 2, 3, 4, 5]\n",
    "\n",
    "# Define a function to multiply two numbers\n",
    "def multiply(x, y):\n",
    "    return x * y\n",
    "\n",
    "# Use the reduce() function to multiply all elements in the list\n",
    "total_product = reduce(multiply, numbers)\n",
    "\n",
    "# Print the product\n",
    "print(\"The product of all numbers in the list is:\", total_product)\n"
   ]
  },
  {
   "cell_type": "raw",
   "id": "6f785280",
   "metadata": {},
   "source": [
    "3.\tWrite a Python program to find smallest number in a list?"
   ]
  },
  {
   "cell_type": "code",
   "execution_count": 6,
   "id": "047df5bc",
   "metadata": {},
   "outputs": [
    {
     "name": "stdout",
     "output_type": "stream",
     "text": [
      "The smallest number in the list is: 1\n"
     ]
    }
   ],
   "source": [
    "#Using a for loop\n",
    "\n",
    "# Sample list of numbers\n",
    "numbers = [5, 2, 9, 1, 8]\n",
    "\n",
    "# Initialize a variable to store the smallest number, starting with the first element\n",
    "smallest = numbers[0]\n",
    "\n",
    "# Iterate through the list to find the smallest number\n",
    "for num in numbers:\n",
    "    if num < smallest:\n",
    "        smallest = num\n",
    "\n",
    "# Print the smallest number\n",
    "print(\"The smallest number in the list is:\", smallest)\n"
   ]
  },
  {
   "cell_type": "code",
   "execution_count": 7,
   "id": "205d5be9",
   "metadata": {},
   "outputs": [
    {
     "name": "stdout",
     "output_type": "stream",
     "text": [
      "The smallest number in the list is: 1\n"
     ]
    }
   ],
   "source": [
    "#Using a min() function:\n",
    "\n",
    "# Sample list of numbers\n",
    "numbers = [5, 2, 9, 1, 8]\n",
    "\n",
    "# Use the min() function to find the smallest number in the list\n",
    "smallest = min(numbers)\n",
    "\n",
    "# Print the smallest number\n",
    "print(\"The smallest number in the list is:\", smallest)\n"
   ]
  },
  {
   "cell_type": "raw",
   "id": "85ebcbd5",
   "metadata": {},
   "source": [
    "4.\tWrite a Python program to find largest number in a list?"
   ]
  },
  {
   "cell_type": "code",
   "execution_count": 8,
   "id": "64f11954",
   "metadata": {},
   "outputs": [
    {
     "name": "stdout",
     "output_type": "stream",
     "text": [
      "The largest number in the list is: 9\n"
     ]
    }
   ],
   "source": [
    "#Using a for loop\n",
    "\n",
    "# Sample list of numbers\n",
    "numbers = [5, 2, 9, 1, 8]\n",
    "\n",
    "# Initialize a variable to store the largest number, starting with the first element\n",
    "largest = numbers[0]\n",
    "\n",
    "# Iterate through the list to find the largest number\n",
    "for num in numbers:\n",
    "    if num > largest:\n",
    "        largest = num\n",
    "\n",
    "# Print the largest number\n",
    "print(\"The largest number in the list is:\", largest)\n"
   ]
  },
  {
   "cell_type": "code",
   "execution_count": 9,
   "id": "1a70e1a9",
   "metadata": {},
   "outputs": [
    {
     "name": "stdout",
     "output_type": "stream",
     "text": [
      "The largest number in the list is: 9\n"
     ]
    }
   ],
   "source": [
    "# Using a max() function\n",
    "\n",
    "# Sample list of numbers\n",
    "numbers = [5, 2, 9, 1, 8]\n",
    "\n",
    "# Use the max() function to find the largest number in the list\n",
    "largest = max(numbers)\n",
    "\n",
    "# Print the largest number\n",
    "print(\"The largest number in the list is:\", largest)\n"
   ]
  },
  {
   "cell_type": "raw",
   "id": "b886a5ee",
   "metadata": {},
   "source": [
    "5.\tWrite a Python program to find second largest number in a list?"
   ]
  },
  {
   "cell_type": "code",
   "execution_count": 10,
   "id": "30ccdd03",
   "metadata": {},
   "outputs": [
    {
     "name": "stdout",
     "output_type": "stream",
     "text": [
      "The second largest number in the list is: 8\n"
     ]
    }
   ],
   "source": [
    "# Sample list of numbers\n",
    "numbers = [5, 2, 9, 1, 8]\n",
    "\n",
    "# Sort the list in ascending order\n",
    "sorted_numbers = sorted(numbers)\n",
    "\n",
    "# Check if there are at least two elements in the list\n",
    "if len(sorted_numbers) >= 2:\n",
    "    second_largest = sorted_numbers[-2]  # Get the second-to-last element\n",
    "    print(\"The second largest number in the list is:\", second_largest)\n",
    "else:\n",
    "    print(\"There is no second largest number in the list.\")\n"
   ]
  },
  {
   "cell_type": "code",
   "execution_count": 11,
   "id": "5b99bda6",
   "metadata": {},
   "outputs": [
    {
     "name": "stdout",
     "output_type": "stream",
     "text": [
      "The second largest number in the list is: 8\n"
     ]
    }
   ],
   "source": [
    "# Sample list of numbers\n",
    "numbers = [5, 2, 9, 1, 8]\n",
    "\n",
    "# Remove duplicates by converting the list to a set and then back to a list\n",
    "unique_numbers = list(set(numbers))\n",
    "\n",
    "# Check if there are at least two unique elements in the list\n",
    "if len(unique_numbers) >= 2:\n",
    "    # Sort the list in descending order\n",
    "    unique_numbers.sort(reverse=True)\n",
    "    \n",
    "    # The second largest number is at index 1 in the sorted list\n",
    "    second_largest = unique_numbers[1]\n",
    "    \n",
    "    print(\"The second largest number in the list is:\", second_largest)\n",
    "else:\n",
    "    print(\"There is no second largest number in the list.\")\n"
   ]
  },
  {
   "cell_type": "raw",
   "id": "1b185371",
   "metadata": {},
   "source": [
    "6. Write a Python program to find N largest elements from a list?"
   ]
  },
  {
   "cell_type": "code",
   "execution_count": 12,
   "id": "62257a78",
   "metadata": {},
   "outputs": [
    {
     "name": "stdout",
     "output_type": "stream",
     "text": [
      "The 3 largest elements in the list are: [10, 9, 8]\n"
     ]
    }
   ],
   "source": [
    "import heapq\n",
    "\n",
    "# Sample list of numbers\n",
    "numbers = [5, 2, 9, 1, 8, 10, 7]\n",
    "\n",
    "# Specify the value of N\n",
    "N = 3  # Change this value to find a different number of largest elements\n",
    "\n",
    "# Use heapq to find the N largest elements\n",
    "n_largest_elements = heapq.nlargest(N, numbers)\n",
    "\n",
    "# Print the result\n",
    "if n_largest_elements:\n",
    "    print(f\"The {N} largest elements in the list are:\", n_largest_elements)\n",
    "else:\n",
    "    print(\"Invalid value of N. Please provide a positive integer greater than 0.\")\n"
   ]
  },
  {
   "cell_type": "code",
   "execution_count": 13,
   "id": "99a1b259",
   "metadata": {},
   "outputs": [
    {
     "name": "stdout",
     "output_type": "stream",
     "text": [
      "The 3 largest elements in the list are: [10, 9, 8]\n"
     ]
    }
   ],
   "source": [
    "# Sample list of numbers\n",
    "numbers = [5, 2, 9, 1, 8, 10, 7]\n",
    "\n",
    "# Specify the value of N\n",
    "N = 3  # Change this value to find a different number of largest elements\n",
    "\n",
    "# Use sorted() to find the N largest elements\n",
    "n_largest_elements = sorted(numbers, reverse=True)[:N]\n",
    "\n",
    "# Print the result\n",
    "if n_largest_elements:\n",
    "    print(f\"The {N} largest elements in the list are:\", n_largest_elements)\n",
    "else:\n",
    "    print(\"Invalid value of N. Please provide a positive integer greater than 0.\")\n"
   ]
  },
  {
   "cell_type": "raw",
   "id": "0dc7ab92",
   "metadata": {},
   "source": [
    "7. Write a Python program to print even numbers in a list?"
   ]
  },
  {
   "cell_type": "code",
   "execution_count": 14,
   "id": "b1a4d990",
   "metadata": {},
   "outputs": [
    {
     "name": "stdout",
     "output_type": "stream",
     "text": [
      "Even numbers in the list:\n",
      "2\n",
      "4\n",
      "6\n",
      "8\n",
      "10\n"
     ]
    }
   ],
   "source": [
    "# Sample list of numbers\n",
    "numbers = [1, 2, 3, 4, 5, 6, 7, 8, 9, 10]\n",
    "\n",
    "# Iterate through the list and print even numbers\n",
    "print(\"Even numbers in the list:\")\n",
    "for num in numbers:\n",
    "    if num % 2 == 0:\n",
    "        print(num)\n"
   ]
  },
  {
   "cell_type": "code",
   "execution_count": 1,
   "id": "1eb2c73e",
   "metadata": {},
   "outputs": [
    {
     "name": "stdout",
     "output_type": "stream",
     "text": [
      "Even numbers in the list: [2, 4, 6, 8, 10]\n"
     ]
    }
   ],
   "source": [
    "# Sample list of numbers\n",
    "numbers = [1, 2, 3, 4, 5, 6, 7, 8, 9, 10]\n",
    "\n",
    "# Use a list comprehension to filter even numbers\n",
    "even_numbers = [num for num in numbers if num % 2 == 0]\n",
    "\n",
    "# Print the even numbers\n",
    "print(\"Even numbers in the list:\", even_numbers)\n"
   ]
  },
  {
   "cell_type": "raw",
   "id": "bd595262",
   "metadata": {},
   "source": [
    "8.\tWrite a Python program to print odd numbers in a List?"
   ]
  },
  {
   "cell_type": "code",
   "execution_count": 2,
   "id": "91be3022",
   "metadata": {},
   "outputs": [
    {
     "name": "stdout",
     "output_type": "stream",
     "text": [
      "Odd numbers in the list:\n",
      "1\n",
      "3\n",
      "5\n",
      "7\n",
      "9\n"
     ]
    }
   ],
   "source": [
    "# Sample list of numbers\n",
    "numbers = [1, 2, 3, 4, 5, 6, 7, 8, 9, 10]\n",
    "\n",
    "# Iterate through the list and print odd numbers\n",
    "print(\"Odd numbers in the list:\")\n",
    "for num in numbers:\n",
    "    if num % 2 != 0:\n",
    "        print(num)\n"
   ]
  },
  {
   "cell_type": "code",
   "execution_count": 17,
   "id": "b9237f11",
   "metadata": {},
   "outputs": [
    {
     "name": "stdout",
     "output_type": "stream",
     "text": [
      "Odd numbers in the list: [1, 3, 5, 7, 9]\n"
     ]
    }
   ],
   "source": [
    "# Sample list of numbers\n",
    "numbers = [1, 2, 3, 4, 5, 6, 7, 8, 9, 10]\n",
    "\n",
    "# Use a list comprehension to filter odd numbers\n",
    "odd_numbers = [num for num in numbers if num % 2 != 0]\n",
    "\n",
    "# Print the odd numbers\n",
    "print(\"Odd numbers in the list:\", odd_numbers)\n"
   ]
  },
  {
   "cell_type": "raw",
   "id": "d7e5260e",
   "metadata": {},
   "source": [
    "9.\tWrite a Python program to Remove empty List from List?"
   ]
  },
  {
   "cell_type": "code",
   "execution_count": 18,
   "id": "ffee343c",
   "metadata": {},
   "outputs": [
    {
     "name": "stdout",
     "output_type": "stream",
     "text": [
      "List after removing empty lists: [[1, 2, 3], [4, 5], [6]]\n"
     ]
    }
   ],
   "source": [
    "# Sample list of lists\n",
    "list_of_lists = [[1, 2, 3], [], [4, 5], [], [6], []]\n",
    "\n",
    "# Use a list comprehension to remove empty lists\n",
    "non_empty_lists = [sublist for sublist in list_of_lists if sublist]\n",
    "\n",
    "# Print the result\n",
    "print(\"List after removing empty lists:\", non_empty_lists)\n"
   ]
  },
  {
   "cell_type": "code",
   "execution_count": null,
   "id": "ee8ab035",
   "metadata": {},
   "outputs": [],
   "source": []
  },
  {
   "cell_type": "raw",
   "id": "86bc82f5",
   "metadata": {},
   "source": [
    "10.\tWrite a Python program to Cloning or Copying a list?"
   ]
  },
  {
   "cell_type": "code",
   "execution_count": 19,
   "id": "9eff839c",
   "metadata": {},
   "outputs": [
    {
     "name": "stdout",
     "output_type": "stream",
     "text": [
      "Cloned List: [1, 2, 3, 4, 5]\n"
     ]
    }
   ],
   "source": [
    "# Original list\n",
    "original_list = [1, 2, 3, 4, 5]\n",
    "\n",
    "# Clone the list using the slice operator\n",
    "cloned_list = original_list[:]\n",
    "\n",
    "# Print the cloned list\n",
    "print(\"Cloned List:\", cloned_list)\n"
   ]
  },
  {
   "cell_type": "code",
   "execution_count": 20,
   "id": "8d27e5d9",
   "metadata": {},
   "outputs": [
    {
     "name": "stdout",
     "output_type": "stream",
     "text": [
      "Cloned List: [1, 2, 3, 4, 5]\n"
     ]
    }
   ],
   "source": [
    "# Original list\n",
    "original_list = [1, 2, 3, 4, 5]\n",
    "\n",
    "# Clone the list using the list() constructor\n",
    "cloned_list = list(original_list)\n",
    "\n",
    "# Print the cloned list\n",
    "print(\"Cloned List:\", cloned_list)\n"
   ]
  },
  {
   "cell_type": "code",
   "execution_count": 21,
   "id": "34dd6156",
   "metadata": {},
   "outputs": [
    {
     "name": "stdout",
     "output_type": "stream",
     "text": [
      "Cloned List: [1, 2, 3, 4, 5]\n"
     ]
    }
   ],
   "source": [
    "# Original list\n",
    "original_list = [1, 2, 3, 4, 5]\n",
    "\n",
    "# Clone the list using the list() constructor\n",
    "cloned_list = list(original_list)\n",
    "\n",
    "# Print the cloned list\n",
    "print(\"Cloned List:\", cloned_list)\n"
   ]
  },
  {
   "cell_type": "code",
   "execution_count": 22,
   "id": "6ea68adc",
   "metadata": {},
   "outputs": [
    {
     "name": "stdout",
     "output_type": "stream",
     "text": [
      "Cloned List: [1, [2, 3], [4, 5]]\n"
     ]
    }
   ],
   "source": [
    "import copy\n",
    "\n",
    "# Original list with nested lists\n",
    "original_list = [1, [2, 3], [4, 5]]\n",
    "\n",
    "# Clone the list using the copy module's copy() function\n",
    "cloned_list = copy.copy(original_list)\n",
    "\n",
    "# Print the cloned list\n",
    "print(\"Cloned List:\", cloned_list)\n"
   ]
  },
  {
   "cell_type": "code",
   "execution_count": null,
   "id": "8f826876",
   "metadata": {},
   "outputs": [],
   "source": []
  },
  {
   "cell_type": "raw",
   "id": "651727a4",
   "metadata": {},
   "source": [
    "11.\tWrite a Python program to Count occurrences of an element in a list?"
   ]
  },
  {
   "cell_type": "code",
   "execution_count": 23,
   "id": "ed846f18",
   "metadata": {},
   "outputs": [
    {
     "name": "stdout",
     "output_type": "stream",
     "text": [
      "The element 2 appears 4 times in the list.\n"
     ]
    }
   ],
   "source": [
    "# Sample list\n",
    "my_list = [1, 2, 3, 4, 2, 2, 5, 6, 3, 7, 2]\n",
    "\n",
    "# Element to count\n",
    "element_to_count = 2\n",
    "\n",
    "# Use the count() method to count occurrences\n",
    "count = my_list.count(element_to_count)\n",
    "\n",
    "# Print the count\n",
    "print(f\"The element {element_to_count} appears {count} times in the list.\")\n"
   ]
  },
  {
   "cell_type": "code",
   "execution_count": 24,
   "id": "f9cb7187",
   "metadata": {},
   "outputs": [
    {
     "name": "stdout",
     "output_type": "stream",
     "text": [
      "The element 2 appears 4 times in the list.\n"
     ]
    }
   ],
   "source": [
    "# Sample list\n",
    "my_list = [1, 2, 3, 4, 2, 2, 5, 6, 3, 7, 2]\n",
    "\n",
    "# Element to count\n",
    "element_to_count = 2\n",
    "\n",
    "# Initialize a count variable\n",
    "count = 0\n",
    "\n",
    "# Iterate through the list and count occurrences\n",
    "for item in my_list:\n",
    "    if item == element_to_count:\n",
    "        count += 1\n",
    "\n",
    "# Print the count\n",
    "print(f\"The element {element_to_count} appears {count} times in the list.\")\n"
   ]
  },
  {
   "cell_type": "code",
   "execution_count": null,
   "id": "901bcf6c",
   "metadata": {},
   "outputs": [],
   "source": []
  }
 ],
 "metadata": {
  "kernelspec": {
   "display_name": "Python 3 (ipykernel)",
   "language": "python",
   "name": "python3"
  },
  "language_info": {
   "codemirror_mode": {
    "name": "ipython",
    "version": 3
   },
   "file_extension": ".py",
   "mimetype": "text/x-python",
   "name": "python",
   "nbconvert_exporter": "python",
   "pygments_lexer": "ipython3",
   "version": "3.11.3"
  }
 },
 "nbformat": 4,
 "nbformat_minor": 5
}
