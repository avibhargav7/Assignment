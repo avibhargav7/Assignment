{
 "cells": [
  {
   "cell_type": "raw",
   "id": "1b4834b5",
   "metadata": {},
   "source": [
    "1.\tWrite a Python Program to find sum of array?"
   ]
  },
  {
   "cell_type": "code",
   "execution_count": 1,
   "id": "d396be92",
   "metadata": {},
   "outputs": [
    {
     "name": "stdout",
     "output_type": "stream",
     "text": [
      "Enter the array of numbers separated by spaces: 4\n",
      "The sum of the array is: 4\n"
     ]
    }
   ],
   "source": [
    "# Input the array of numbers\n",
    "arr = [int(x) for x in input(\"Enter the array of numbers separated by spaces: \").split()]\n",
    "\n",
    "# Initialize the sum to 0\n",
    "array_sum = 0\n",
    "\n",
    "# Calculate the sum of the array\n",
    "for num in arr:\n",
    "    array_sum += num\n",
    "\n",
    "# Display the sum\n",
    "print(f\"The sum of the array is: {array_sum}\")\n"
   ]
  },
  {
   "cell_type": "raw",
   "id": "f0f21443",
   "metadata": {},
   "source": [
    "2.\tWrite a Python Program to find largest element in an array?"
   ]
  },
  {
   "cell_type": "code",
   "execution_count": 2,
   "id": "b4920f45",
   "metadata": {},
   "outputs": [
    {
     "name": "stdout",
     "output_type": "stream",
     "text": [
      "Enter the array of numbers separated by spaces: 4\n",
      "The largest element in the array is: 4\n"
     ]
    }
   ],
   "source": [
    "# Input the array of numbers\n",
    "arr = [int(x) for x in input(\"Enter the array of numbers separated by spaces: \").split()]\n",
    "\n",
    "# Initialize the maximum value to the first element of the array\n",
    "max_value = arr[0]\n",
    "\n",
    "# Iterate through the array to find the maximum value\n",
    "for num in arr:\n",
    "    if num > max_value:\n",
    "        max_value = num\n",
    "\n",
    "# Display the largest element\n",
    "print(f\"The largest element in the array is: {max_value}\")\n"
   ]
  },
  {
   "cell_type": "raw",
   "id": "b681d8a1",
   "metadata": {},
   "source": [
    "3.\tWrite a Python Program for array rotation?"
   ]
  },
  {
   "cell_type": "code",
   "execution_count": 4,
   "id": "9de01a56",
   "metadata": {},
   "outputs": [
    {
     "name": "stdout",
     "output_type": "stream",
     "text": [
      "Enter the array of numbers separated by spaces: 3\n",
      "Enter the number of positions to rotate left: 90\n",
      "Rotated Array: [3]\n"
     ]
    }
   ],
   "source": [
    "def rotate_left(arr, n):\n",
    "    # Calculate the length of the array\n",
    "    length = len(arr)\n",
    "    \n",
    "    # Ensure n is within a valid range\n",
    "    n = n % length\n",
    "    \n",
    "    # Slice the array to perform rotation\n",
    "    rotated = arr[n:] + arr[:n]\n",
    "    \n",
    "    return rotated\n",
    "\n",
    "# Input the array of numbers\n",
    "arr = [int(x) for x in input(\"Enter the array of numbers separated by spaces: \").split()]\n",
    "\n",
    "# Input the number of positions to rotate\n",
    "n = int(input(\"Enter the number of positions to rotate left: \"))\n",
    "\n",
    "# Perform the left rotation\n",
    "rotated_arr = rotate_left(arr, n)\n",
    "\n",
    "# Display the rotated array\n",
    "print(\"Rotated Array:\", rotated_arr)\n"
   ]
  },
  {
   "cell_type": "raw",
   "id": "2a265f19",
   "metadata": {},
   "source": [
    "4.\tWrite a Python Program to Split the array and add the first part to the end?"
   ]
  },
  {
   "cell_type": "code",
   "execution_count": 5,
   "id": "acadd91b",
   "metadata": {},
   "outputs": [
    {
     "name": "stdout",
     "output_type": "stream",
     "text": [
      "Enter the array of numbers separated by spaces: 5\n",
      "Enter the number of positions to split and rotate: 9\n",
      "Rotated Array: [5]\n"
     ]
    }
   ],
   "source": [
    "def split_and_rotate(arr, n):\n",
    "    # Check if the array can be split\n",
    "    if len(arr) < 2:\n",
    "        return arr\n",
    "\n",
    "    # Ensure n is within a valid range\n",
    "    n = n % len(arr)\n",
    "\n",
    "    # Split the array into two parts\n",
    "    first_part = arr[:n]\n",
    "    second_part = arr[n:]\n",
    "\n",
    "    # Add the first part to the end of the second part\n",
    "    rotated_arr = second_part + first_part\n",
    "\n",
    "    return rotated_arr\n",
    "\n",
    "# Input the array of numbers\n",
    "arr = [int(x) for x in input(\"Enter the array of numbers separated by spaces: \").split()]\n",
    "\n",
    "# Input the number of positions to split and rotate\n",
    "n = int(input(\"Enter the number of positions to split and rotate: \"))\n",
    "\n",
    "# Perform the split and rotate operation\n",
    "rotated_arr = split_and_rotate(arr, n)\n",
    "\n",
    "# Display the rotated array\n",
    "print(\"Rotated Array:\", rotated_arr)\n"
   ]
  },
  {
   "cell_type": "raw",
   "id": "a207ffc9",
   "metadata": {},
   "source": [
    "5.\tWrite a Python Program to check if given array is Monotonic?"
   ]
  },
  {
   "cell_type": "code",
   "execution_count": 6,
   "id": "c82dc7d4",
   "metadata": {},
   "outputs": [
    {
     "name": "stdout",
     "output_type": "stream",
     "text": [
      "Enter the array of numbers separated by spaces: 5\n",
      "The array is monotonic.\n"
     ]
    }
   ],
   "source": [
    "def is_monotonic(arr):\n",
    "    increasing = decreasing = True\n",
    "\n",
    "    for i in range(1, len(arr)):\n",
    "        if arr[i] > arr[i - 1]:\n",
    "            decreasing = False\n",
    "        elif arr[i] < arr[i - 1]:\n",
    "            increasing = False\n",
    "\n",
    "    return increasing or decreasing\n",
    "\n",
    "# Input the array of numbers\n",
    "arr = [int(x) for x in input(\"Enter the array of numbers separated by spaces: \").split()]\n",
    "\n",
    "# Check if the array is monotonic\n",
    "if is_monotonic(arr):\n",
    "    print(\"The array is monotonic.\")\n",
    "else:\n",
    "    print(\"The array is not monotonic.\")\n"
   ]
  },
  {
   "cell_type": "code",
   "execution_count": null,
   "id": "bd91c142",
   "metadata": {},
   "outputs": [],
   "source": []
  }
 ],
 "metadata": {
  "kernelspec": {
   "display_name": "Python 3 (ipykernel)",
   "language": "python",
   "name": "python3"
  },
  "language_info": {
   "codemirror_mode": {
    "name": "ipython",
    "version": 3
   },
   "file_extension": ".py",
   "mimetype": "text/x-python",
   "name": "python",
   "nbconvert_exporter": "python",
   "pygments_lexer": "ipython3",
   "version": "3.11.3"
  }
 },
 "nbformat": 4,
 "nbformat_minor": 5
}
