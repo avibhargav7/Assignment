{
 "cells": [
  {
   "cell_type": "raw",
   "id": "330f0575",
   "metadata": {},
   "source": [
    "1.\tWrite a Python program to check if the given number is a Disarium Number?"
   ]
  },
  {
   "cell_type": "code",
   "execution_count": 1,
   "id": "0cb31d56",
   "metadata": {},
   "outputs": [
    {
     "name": "stdout",
     "output_type": "stream",
     "text": [
      "Enter a number: 4\n",
      "4 is a Disarium number.\n"
     ]
    }
   ],
   "source": [
    "def is_disarium_number(number):\n",
    "    # Convert the number to a string to iterate through its digits\n",
    "    num_str = str(number)\n",
    "    length = len(num_str)\n",
    "    \n",
    "    # Calculate the sum of digits, each raised to the power of its position\n",
    "    total = sum(int(digit) ** (i + 1) for i, digit in enumerate(num_str))\n",
    "    \n",
    "    # Check if the total is equal to the original number\n",
    "    return total == number\n",
    "\n",
    "# Input a number to check\n",
    "num = int(input(\"Enter a number: \"))\n",
    "\n",
    "# Check if it's a Disarium number and print the result\n",
    "if is_disarium_number(num):\n",
    "    print(f\"{num} is a Disarium number.\")\n",
    "else:\n",
    "    print(f\"{num} is not a Disarium number.\")\n"
   ]
  },
  {
   "cell_type": "raw",
   "id": "11a29b1a",
   "metadata": {},
   "source": [
    "2.\tWrite a Python program to print all disarium numbers between 1 to 100?"
   ]
  },
  {
   "cell_type": "code",
   "execution_count": 2,
   "id": "8b6ad274",
   "metadata": {},
   "outputs": [
    {
     "name": "stdout",
     "output_type": "stream",
     "text": [
      "Disarium numbers between 1 and 100:\n",
      "1\n",
      "2\n",
      "3\n",
      "4\n",
      "5\n",
      "6\n",
      "7\n",
      "8\n",
      "9\n",
      "89\n"
     ]
    }
   ],
   "source": [
    "def is_disarium_number(number):\n",
    "    num_str = str(number)\n",
    "    length = len(num_str)\n",
    "    total = sum(int(digit) ** (i + 1) for i, digit in enumerate(num_str))\n",
    "    return total == number\n",
    "\n",
    "# Define the range of numbers to check\n",
    "start = 1\n",
    "end = 100\n",
    "\n",
    "print(\"Disarium numbers between 1 and 100:\")\n",
    "for num in range(start, end + 1):\n",
    "    if is_disarium_number(num):\n",
    "        print(num)\n"
   ]
  },
  {
   "cell_type": "raw",
   "id": "dd6c1d53",
   "metadata": {},
   "source": [
    "3.\tWrite a Python program to check if the given number is Happy Number?"
   ]
  },
  {
   "cell_type": "code",
   "execution_count": 3,
   "id": "e01b2ac1",
   "metadata": {},
   "outputs": [
    {
     "name": "stdout",
     "output_type": "stream",
     "text": [
      "Enter a number: 5\n",
      "5 is not a happy number.\n"
     ]
    }
   ],
   "source": [
    "def is_happy_number(num):\n",
    "    seen = set()\n",
    "    while num != 1 and num not in seen:\n",
    "        seen.add(num)\n",
    "        num = sum(int(digit) ** 2 for digit in str(num))\n",
    "    return num == 1\n",
    "\n",
    "# Input a number to check if it's a happy number\n",
    "number = int(input(\"Enter a number: \"))\n",
    "\n",
    "if is_happy_number(number):\n",
    "    print(f\"{number} is a happy number.\")\n",
    "else:\n",
    "    print(f\"{number} is not a happy number.\")\n"
   ]
  },
  {
   "cell_type": "raw",
   "id": "87a0120c",
   "metadata": {},
   "source": [
    "4.\tWrite a Python program to print all happy numbers between 1 and 100?"
   ]
  },
  {
   "cell_type": "code",
   "execution_count": 4,
   "id": "d54df17b",
   "metadata": {},
   "outputs": [
    {
     "name": "stdout",
     "output_type": "stream",
     "text": [
      "Happy numbers between 1 and 100:\n",
      "[1, 7, 10, 13, 19, 23, 28, 31, 32, 44, 49, 68, 70, 79, 82, 86, 91, 94, 97, 100]\n"
     ]
    }
   ],
   "source": [
    "def is_happy_number(num):\n",
    "    seen = set()\n",
    "    while num != 1 and num not in seen:\n",
    "        seen.add(num)\n",
    "        num = sum(int(digit) ** 2 for digit in str(num))\n",
    "    return num == 1\n",
    "\n",
    "def find_happy_numbers_in_range(start, end):\n",
    "    happy_numbers = []\n",
    "    for number in range(start, end + 1):\n",
    "        if is_happy_number(number):\n",
    "            happy_numbers.append(number)\n",
    "    return happy_numbers\n",
    "\n",
    "# Define the range\n",
    "start_range = 1\n",
    "end_range = 100\n",
    "\n",
    "# Find and print happy numbers in the specified range\n",
    "happy_numbers = find_happy_numbers_in_range(start_range, end_range)\n",
    "print(\"Happy numbers between 1 and 100:\")\n",
    "print(happy_numbers)\n"
   ]
  },
  {
   "cell_type": "raw",
   "id": "fdd3de84",
   "metadata": {},
   "source": [
    "5.\tWrite a Python program to determine whether the given number is a Harshad Number?"
   ]
  },
  {
   "cell_type": "code",
   "execution_count": 5,
   "id": "8dda6787",
   "metadata": {},
   "outputs": [
    {
     "name": "stdout",
     "output_type": "stream",
     "text": [
      "Enter a number: 5\n",
      "5 is a Harshad Number.\n"
     ]
    }
   ],
   "source": [
    "def is_harshad_number(number):\n",
    "    # Convert the number to a string to work with individual digits\n",
    "    num_str = str(number)\n",
    "    \n",
    "    # Calculate the sum of the digits\n",
    "    digit_sum = sum(int(digit) for digit in num_str)\n",
    "    \n",
    "    # Check if the number is divisible by the sum of its digits\n",
    "    return number % digit_sum == 0\n",
    "\n",
    "# Input a number to check if it's a Harshad Number\n",
    "num = int(input(\"Enter a number: \"))\n",
    "\n",
    "if is_harshad_number(num):\n",
    "    print(f\"{num} is a Harshad Number.\")\n",
    "else:\n",
    "    print(f\"{num} is not a Harshad Number.\")\n"
   ]
  },
  {
   "cell_type": "raw",
   "id": "476b9a8f",
   "metadata": {},
   "source": [
    "6.\tWrite a Python program to print all pronic numbers between 1 and 100?"
   ]
  },
  {
   "cell_type": "code",
   "execution_count": 6,
   "id": "682844f1",
   "metadata": {},
   "outputs": [
    {
     "name": "stdout",
     "output_type": "stream",
     "text": [
      "Pronic numbers between 1 and 100:\n",
      "[2, 6, 12, 20, 30, 42, 56, 72, 90]\n"
     ]
    }
   ],
   "source": [
    "def generate_pronic_numbers(limit):\n",
    "    pronic_numbers = []\n",
    "    n = 1\n",
    "    \n",
    "    while n * (n + 1) <= limit:\n",
    "        pronic_numbers.append(n * (n + 1))\n",
    "        n += 1\n",
    "    \n",
    "    return pronic_numbers\n",
    "\n",
    "limit = 100\n",
    "pronic_numbers = generate_pronic_numbers(limit)\n",
    "\n",
    "print(f\"Pronic numbers between 1 and {limit}:\")\n",
    "print(pronic_numbers)\n"
   ]
  },
  {
   "cell_type": "code",
   "execution_count": null,
   "id": "10fc57e1",
   "metadata": {},
   "outputs": [],
   "source": []
  }
 ],
 "metadata": {
  "kernelspec": {
   "display_name": "Python 3 (ipykernel)",
   "language": "python",
   "name": "python3"
  },
  "language_info": {
   "codemirror_mode": {
    "name": "ipython",
    "version": 3
   },
   "file_extension": ".py",
   "mimetype": "text/x-python",
   "name": "python",
   "nbconvert_exporter": "python",
   "pygments_lexer": "ipython3",
   "version": "3.11.3"
  }
 },
 "nbformat": 4,
 "nbformat_minor": 5
}
