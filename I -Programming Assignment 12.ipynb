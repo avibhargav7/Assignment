{
 "cells": [
  {
   "cell_type": "raw",
   "id": "9068033a",
   "metadata": {},
   "source": [
    "1.\tWrite a Python program to Extract Unique values dictionary values?"
   ]
  },
  {
   "cell_type": "code",
   "execution_count": 1,
   "id": "1e0143cd",
   "metadata": {},
   "outputs": [
    {
     "name": "stdout",
     "output_type": "stream",
     "text": [
      "Unique values in the dictionary: {1, 2, 3, 4, 5}\n"
     ]
    }
   ],
   "source": [
    "# Function to extract unique values from dictionary values\n",
    "def extract_unique_values(dictionary):\n",
    "    # Create an empty set to store unique values\n",
    "    unique_values = set()\n",
    "    \n",
    "    # Iterate through the values of the dictionary\n",
    "    for values in dictionary.values():\n",
    "        # Convert the values to a list and add them to the set\n",
    "        unique_values.update(values)\n",
    "    \n",
    "    return unique_values\n",
    "\n",
    "# Input dictionary\n",
    "my_dict = {\n",
    "    'A': [1, 2, 3],\n",
    "    'B': [2, 3, 4],\n",
    "    'C': [3, 4, 5]\n",
    "}\n",
    "\n",
    "# Call the function to extract unique values\n",
    "result = extract_unique_values(my_dict)\n",
    "\n",
    "# Print the unique values\n",
    "print(\"Unique values in the dictionary:\", result)\n"
   ]
  },
  {
   "cell_type": "raw",
   "id": "6412b137",
   "metadata": {},
   "source": [
    "2.\tWrite a Python program to find the sum of all items in a dictionary?"
   ]
  },
  {
   "cell_type": "code",
   "execution_count": 2,
   "id": "2dadce6d",
   "metadata": {},
   "outputs": [
    {
     "name": "stdout",
     "output_type": "stream",
     "text": [
      "Sum of all items in the dictionary: 100\n"
     ]
    }
   ],
   "source": [
    "# Function to find the sum of all items in a dictionary\n",
    "def sum_of_dictionary_values(dictionary):\n",
    "    # Initialize a variable to store the sum\n",
    "    total_sum = 0\n",
    "    \n",
    "    # Iterate through the values of the dictionary\n",
    "    for value in dictionary.values():\n",
    "        total_sum += value\n",
    "    \n",
    "    return total_sum\n",
    "\n",
    "# Input dictionary with numeric values\n",
    "my_dict = {\n",
    "    'A': 10,\n",
    "    'B': 20,\n",
    "    'C': 30,\n",
    "    'D': 40\n",
    "}\n",
    "\n",
    "# Call the function to find the sum of values\n",
    "result = sum_of_dictionary_values(my_dict)\n",
    "\n",
    "# Print the sum of values\n",
    "print(\"Sum of all items in the dictionary:\", result)\n"
   ]
  },
  {
   "cell_type": "raw",
   "id": "2e3f0fe7",
   "metadata": {},
   "source": [
    "3.\tWrite a Python program to Merging two Dictionaries?"
   ]
  },
  {
   "cell_type": "code",
   "execution_count": 4,
   "id": "7befb45c",
   "metadata": {},
   "outputs": [
    {
     "name": "stdout",
     "output_type": "stream",
     "text": [
      "Merged Dictionary (Method 1): {'a': 1, 'b': 3, 'c': 4}\n",
      "Merged Dictionary (Method 2): {'a': 1, 'b': 3, 'c': 4}\n"
     ]
    }
   ],
   "source": [
    "# Method 1: Using the update() method\n",
    "def merge_dictionaries(dict1, dict2):\n",
    "    merged_dict = dict1.copy()  # Make a copy of the first dictionary\n",
    "    merged_dict.update(dict2)   # Update it with the second dictionary\n",
    "    return merged_dict\n",
    "\n",
    "# Method 2: Using the ** unpacking operator (Python 3.5+)\n",
    "def merge_dictionaries_unpacking(dict1, dict2):\n",
    "    merged_dict = {**dict1, **dict2}\n",
    "    return merged_dict\n",
    "\n",
    "# Input dictionaries\n",
    "dict1 = {'a': 1, 'b': 2}\n",
    "dict2 = {'b': 3, 'c': 4}\n",
    "\n",
    "# Method 1: Merge dictionaries using update()\n",
    "merged_dict1 = merge_dictionaries(dict1, dict2)\n",
    "\n",
    "# Method 2: Merge dictionaries using unpacking operator\n",
    "merged_dict2 = merge_dictionaries_unpacking(dict1, dict2)\n",
    "\n",
    "# Print the merged dictionaries\n",
    "print(\"Merged Dictionary (Method 1):\", merged_dict1)\n",
    "print(\"Merged Dictionary (Method 2):\", merged_dict2)\n"
   ]
  },
  {
   "cell_type": "raw",
   "id": "1ed7207d",
   "metadata": {},
   "source": [
    "4.\tWrite a Python program to convert key-values list to flat dictionary?"
   ]
  },
  {
   "cell_type": "code",
   "execution_count": 5,
   "id": "d4d94a2e",
   "metadata": {},
   "outputs": [
    {
     "name": "stdout",
     "output_type": "stream",
     "text": [
      "Flat Dictionary: {'a': 1, 'b': 2, 'c': 3}\n"
     ]
    }
   ],
   "source": [
    "# Function to convert key-values list to a flat dictionary\n",
    "def convert_to_flat_dictionary(key_value_list):\n",
    "    flat_dict = {}\n",
    "    \n",
    "    for pair in key_value_list:\n",
    "        key, value = pair\n",
    "        flat_dict[key] = value\n",
    "    \n",
    "    return flat_dict\n",
    "\n",
    "# Input list of key-value pairs\n",
    "key_value_list = [(\"a\", 1), (\"b\", 2), (\"c\", 3)]\n",
    "\n",
    "# Call the function to convert to a flat dictionary\n",
    "flat_dictionary = convert_to_flat_dictionary(key_value_list)\n",
    "\n",
    "# Print the flat dictionary\n",
    "print(\"Flat Dictionary:\", flat_dictionary)\n"
   ]
  },
  {
   "cell_type": "raw",
   "id": "88488cd1",
   "metadata": {},
   "source": [
    "5.\tWrite a Python program to insertion at the beginning in OrderedDict?"
   ]
  },
  {
   "cell_type": "code",
   "execution_count": 6,
   "id": "66e6cd90",
   "metadata": {},
   "outputs": [
    {
     "name": "stdout",
     "output_type": "stream",
     "text": [
      "Original OrderedDict:\n",
      "OrderedDict([('a', 1), ('b', 2), ('c', 3)])\n",
      "\n",
      "OrderedDict after insertion at the beginning:\n",
      "OrderedDict([('x', 0), ('a', 1), ('b', 2), ('c', 3)])\n"
     ]
    }
   ],
   "source": [
    "from collections import OrderedDict\n",
    "\n",
    "# Function to insert an item at the beginning of an OrderedDict\n",
    "def insert_at_beginning(ordered_dict, key, value):\n",
    "    # Create a new OrderedDict with the new item at the beginning\n",
    "    new_ordered_dict = OrderedDict([(key, value)] + list(ordered_dict.items()))\n",
    "    \n",
    "    return new_ordered_dict\n",
    "\n",
    "# Create an OrderedDict\n",
    "ordered_dict = OrderedDict([('a', 1), ('b', 2), ('c', 3)])\n",
    "\n",
    "# Key and value to insert at the beginning\n",
    "key_to_insert = 'x'\n",
    "value_to_insert = 0\n",
    "\n",
    "# Call the function to insert at the beginning\n",
    "new_ordered_dict = insert_at_beginning(ordered_dict, key_to_insert, value_to_insert)\n",
    "\n",
    "# Print the updated OrderedDict\n",
    "print(\"Original OrderedDict:\")\n",
    "print(ordered_dict)\n",
    "print(\"\\nOrderedDict after insertion at the beginning:\")\n",
    "print(new_ordered_dict)\n"
   ]
  },
  {
   "cell_type": "raw",
   "id": "03a22555",
   "metadata": {},
   "source": [
    "6.\tWrite a Python program to check order of character in string using OrderedDict()?"
   ]
  },
  {
   "cell_type": "code",
   "execution_count": 7,
   "id": "c3e35929",
   "metadata": {},
   "outputs": [
    {
     "name": "stdout",
     "output_type": "stream",
     "text": [
      "The characters in 'hlo' appear in the same order as in the string.\n"
     ]
    }
   ],
   "source": [
    "from collections import OrderedDict\n",
    "\n",
    "# Function to check the order of characters in a string using OrderedDict\n",
    "def check_order_of_characters(input_string, pattern):\n",
    "    # Create an OrderedDict to store the order of characters in the input string\n",
    "    char_order = OrderedDict()\n",
    "\n",
    "    # Initialize the position index\n",
    "    position = 0\n",
    "\n",
    "    # Iterate through the input string\n",
    "    for char in input_string:\n",
    "        if char not in char_order:\n",
    "            char_order[char] = position\n",
    "            position += 1\n",
    "\n",
    "    # Create a list of character positions based on the order in the input string\n",
    "    char_positions = [char_order[char] for char in pattern if char in char_order]\n",
    "\n",
    "    # Check if the list of character positions is sorted (indicating the same order as in the input string)\n",
    "    return char_positions == sorted(char_positions)\n",
    "\n",
    "# Input string\n",
    "input_string = \"hello world\"\n",
    "pattern = \"hlo\"\n",
    "\n",
    "# Call the function to check the order of characters\n",
    "result = check_order_of_characters(input_string, pattern)\n",
    "\n",
    "# Print the result\n",
    "if result:\n",
    "    print(f\"The characters in '{pattern}' appear in the same order as in the string.\")\n",
    "else:\n",
    "    print(f\"The characters in '{pattern}' do not appear in the same order as in the string.\")\n"
   ]
  },
  {
   "cell_type": "raw",
   "id": "6ce0c4d9",
   "metadata": {},
   "source": [
    "7.\tWrite a Python program to sort Python Dictionaries by Key or Value?"
   ]
  },
  {
   "cell_type": "code",
   "execution_count": 8,
   "id": "fdd57b65",
   "metadata": {},
   "outputs": [
    {
     "name": "stdout",
     "output_type": "stream",
     "text": [
      "Sorted by Key: {'a': 1, 'b': 3, 'c': 2, 'd': 4}\n",
      "Sorted by Value: {'a': 1, 'c': 2, 'b': 3, 'd': 4}\n"
     ]
    }
   ],
   "source": [
    "# Function to sort a dictionary by keys\n",
    "def sort_dict_by_key(input_dict):\n",
    "    sorted_dict = dict(sorted(input_dict.items()))\n",
    "    return sorted_dict\n",
    "\n",
    "# Function to sort a dictionary by values\n",
    "def sort_dict_by_value(input_dict):\n",
    "    sorted_dict = dict(sorted(input_dict.items(), key=lambda item: item[1]))\n",
    "    return sorted_dict\n",
    "\n",
    "# Input dictionary\n",
    "my_dict = {'b': 3, 'a': 1, 'c': 2, 'd': 4}\n",
    "\n",
    "# Sort the dictionary by keys\n",
    "sorted_by_key = sort_dict_by_key(my_dict)\n",
    "\n",
    "# Sort the dictionary by values\n",
    "sorted_by_value = sort_dict_by_value(my_dict)\n",
    "\n",
    "# Print the sorted dictionaries\n",
    "print(\"Sorted by Key:\", sorted_by_key)\n",
    "print(\"Sorted by Value:\", sorted_by_value)\n"
   ]
  },
  {
   "cell_type": "code",
   "execution_count": null,
   "id": "702b76cb",
   "metadata": {},
   "outputs": [],
   "source": []
  }
 ],
 "metadata": {
  "kernelspec": {
   "display_name": "Python 3 (ipykernel)",
   "language": "python",
   "name": "python3"
  },
  "language_info": {
   "codemirror_mode": {
    "name": "ipython",
    "version": 3
   },
   "file_extension": ".py",
   "mimetype": "text/x-python",
   "name": "python",
   "nbconvert_exporter": "python",
   "pygments_lexer": "ipython3",
   "version": "3.11.3"
  }
 },
 "nbformat": 4,
 "nbformat_minor": 5
}
