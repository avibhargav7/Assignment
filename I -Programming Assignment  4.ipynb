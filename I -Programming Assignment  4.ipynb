{
 "cells": [
  {
   "cell_type": "raw",
   "id": "d1c5c2a8",
   "metadata": {},
   "source": [
    "1.\tWrite a Python Program to Find the Factorial of a Number?"
   ]
  },
  {
   "cell_type": "code",
   "execution_count": 1,
   "id": "99c39cb4",
   "metadata": {},
   "outputs": [
    {
     "name": "stdout",
     "output_type": "stream",
     "text": [
      "Enter a number: 4\n",
      "The factorial of 4 is 24\n"
     ]
    }
   ],
   "source": [
    "# Function to calculate the factorial of a number\n",
    "def factorial(n):\n",
    "    if n < 0:\n",
    "        return \"Factorial is not defined for negative numbers\"\n",
    "    elif n == 0:\n",
    "        return 1\n",
    "    else:\n",
    "        result = 1\n",
    "        for i in range(1, n + 1):\n",
    "            result *= i\n",
    "        return result\n",
    "\n",
    "# Input: Get the number from the user\n",
    "num = int(input(\"Enter a number: \"))\n",
    "\n",
    "# Calculate and print the factorial\n",
    "fact = factorial(num)\n",
    "if isinstance(fact, int):\n",
    "    print(f\"The factorial of {num} is {fact}\")\n",
    "else:\n",
    "    print(fact)\n"
   ]
  },
  {
   "cell_type": "raw",
   "id": "e4e4adf3",
   "metadata": {},
   "source": [
    "2.\tWrite a Python Program to Display the multiplication Table?"
   ]
  },
  {
   "cell_type": "code",
   "execution_count": 2,
   "id": "65694c73",
   "metadata": {},
   "outputs": [
    {
     "name": "stdout",
     "output_type": "stream",
     "text": [
      "Enter a number to display its multiplication table: 45\n",
      "Multiplication Table for 45:\n",
      "45 x 1 = 45\n",
      "45 x 2 = 90\n",
      "45 x 3 = 135\n",
      "45 x 4 = 180\n",
      "45 x 5 = 225\n",
      "45 x 6 = 270\n",
      "45 x 7 = 315\n",
      "45 x 8 = 360\n",
      "45 x 9 = 405\n",
      "45 x 10 = 450\n"
     ]
    }
   ],
   "source": [
    "# Function to display the multiplication table\n",
    "def multiplication_table(num):\n",
    "    print(f\"Multiplication Table for {num}:\")\n",
    "    for i in range(1, 11):\n",
    "        result = num * i\n",
    "        print(f\"{num} x {i} = {result}\")\n",
    "\n",
    "# Input: Get the number from the user\n",
    "num = int(input(\"Enter a number to display its multiplication table: \"))\n",
    "\n",
    "# Call the multiplication_table function\n",
    "multiplication_table(num)\n"
   ]
  },
  {
   "cell_type": "raw",
   "id": "d7e9c98e",
   "metadata": {},
   "source": [
    "3.\tWrite a Python Program to Print the Fibonacci sequence?"
   ]
  },
  {
   "cell_type": "code",
   "execution_count": 3,
   "id": "42193782",
   "metadata": {},
   "outputs": [
    {
     "name": "stdout",
     "output_type": "stream",
     "text": [
      "Enter the number of terms in the Fibonacci sequence: 4\n",
      "Fibonacci Sequence:\n",
      "[0, 1, 1, 2]\n"
     ]
    }
   ],
   "source": [
    "# Function to generate the Fibonacci sequence\n",
    "def fibonacci_sequence(n):\n",
    "    fib_seq = []\n",
    "    a, b = 0, 1\n",
    "    for _ in range(n):\n",
    "        fib_seq.append(a)\n",
    "        a, b = b, a + b\n",
    "    return fib_seq\n",
    "\n",
    "# Input: Get the number of terms from the user\n",
    "n = int(input(\"Enter the number of terms in the Fibonacci sequence: \"))\n",
    "\n",
    "# Call the fibonacci_sequence function\n",
    "fib_seq = fibonacci_sequence(n)\n",
    "\n",
    "# Print the Fibonacci sequence\n",
    "print(\"Fibonacci Sequence:\")\n",
    "print(fib_seq)\n"
   ]
  },
  {
   "cell_type": "raw",
   "id": "f3c92f93",
   "metadata": {},
   "source": [
    "4.\tWrite a Python Program to Check Armstrong Number?"
   ]
  },
  {
   "cell_type": "code",
   "execution_count": 4,
   "id": "8c4a1bc4",
   "metadata": {},
   "outputs": [
    {
     "name": "stdout",
     "output_type": "stream",
     "text": [
      "Enter a number: 4\n",
      "4 is an Armstrong number.\n"
     ]
    }
   ],
   "source": [
    "# Function to check if a number is an Armstrong number\n",
    "def is_armstrong(number):\n",
    "    # Convert the number to a string to count the digits\n",
    "    num_str = str(number)\n",
    "    # Calculate the number of digits\n",
    "    num_digits = len(num_str)\n",
    "    \n",
    "    # Calculate the sum of digits raised to the power of num_digits\n",
    "    sum_of_digits = sum(int(digit) ** num_digits for digit in num_str)\n",
    "    \n",
    "    # Check if the sum of digits is equal to the original number\n",
    "    return sum_of_digits == number\n",
    "\n",
    "# Input: Get the number from the user\n",
    "number = int(input(\"Enter a number: \"))\n",
    "\n",
    "# Check if the number is an Armstrong number\n",
    "if is_armstrong(number):\n",
    "    print(f\"{number} is an Armstrong number.\")\n",
    "else:\n",
    "    print(f\"{number} is not an Armstrong number.\")\n"
   ]
  },
  {
   "cell_type": "raw",
   "id": "a565012e",
   "metadata": {},
   "source": [
    "5.\tWrite a Python Program to Find Armstrong Number in an Interval?"
   ]
  },
  {
   "cell_type": "code",
   "execution_count": 5,
   "id": "8952de96",
   "metadata": {},
   "outputs": [
    {
     "name": "stdout",
     "output_type": "stream",
     "text": [
      "Enter the lower bound of the interval: 5\n",
      "Enter the upper bound of the interval: 5\n",
      "Armstrong numbers in the interval [5, 5]:\n",
      "5\n"
     ]
    }
   ],
   "source": [
    "# Function to check if a number is an Armstrong number\n",
    "def is_armstrong(number):\n",
    "    # Convert the number to a string to count the digits\n",
    "    num_str = str(number)\n",
    "    # Calculate the number of digits\n",
    "    num_digits = len(num_str)\n",
    "    \n",
    "    # Calculate the sum of digits raised to the power of num_digits\n",
    "    sum_of_digits = sum(int(digit) ** num_digits for digit in num_str)\n",
    "    \n",
    "    # Check if the sum of digits is equal to the original number\n",
    "    return sum_of_digits == number\n",
    "\n",
    "# Input: Get the lower and upper bounds of the interval from the user\n",
    "lower_bound = int(input(\"Enter the lower bound of the interval: \"))\n",
    "upper_bound = int(input(\"Enter the upper bound of the interval: \"))\n",
    "\n",
    "# Find and print Armstrong numbers within the given interval\n",
    "print(f\"Armstrong numbers in the interval [{lower_bound}, {upper_bound}]:\")\n",
    "for number in range(lower_bound, upper_bound + 1):\n",
    "    if is_armstrong(number):\n",
    "        print(number)\n"
   ]
  },
  {
   "cell_type": "raw",
   "id": "4ca7583a",
   "metadata": {},
   "source": [
    "6.\tWrite a Python Program to Find the Sum of Natural Numbers?"
   ]
  },
  {
   "cell_type": "code",
   "execution_count": 6,
   "id": "fb8aa033",
   "metadata": {},
   "outputs": [
    {
     "name": "stdout",
     "output_type": "stream",
     "text": [
      "Enter a positive integer: 4\n",
      "The sum of natural numbers up to 4 is: 10\n"
     ]
    }
   ],
   "source": [
    "# Input: Get the positive integer from the user\n",
    "n = int(input(\"Enter a positive integer: \"))\n",
    "\n",
    "# Initialize a variable to store the sum\n",
    "sum_of_numbers = 0\n",
    "\n",
    "# Check if the input is a positive integer\n",
    "if n <= 0:\n",
    "    print(\"Please enter a positive integer.\")\n",
    "else:\n",
    "    # Calculate the sum of natural numbers up to n\n",
    "    for i in range(1, n + 1):\n",
    "        sum_of_numbers += i\n",
    "\n",
    "    # Print the result\n",
    "    print(f\"The sum of natural numbers up to {n} is: {sum_of_numbers}\")\n"
   ]
  },
  {
   "cell_type": "code",
   "execution_count": null,
   "id": "985010e3",
   "metadata": {},
   "outputs": [],
   "source": []
  }
 ],
 "metadata": {
  "kernelspec": {
   "display_name": "Python 3 (ipykernel)",
   "language": "python",
   "name": "python3"
  },
  "language_info": {
   "codemirror_mode": {
    "name": "ipython",
    "version": 3
   },
   "file_extension": ".py",
   "mimetype": "text/x-python",
   "name": "python",
   "nbconvert_exporter": "python",
   "pygments_lexer": "ipython3",
   "version": "3.11.3"
  }
 },
 "nbformat": 4,
 "nbformat_minor": 5
}
