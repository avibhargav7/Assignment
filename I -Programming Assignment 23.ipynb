{
 "cells": [
  {
   "cell_type": "raw",
   "id": "0c635bc6",
   "metadata": {},
   "source": [
    "Question 1\n",
    "Create a function that takes a number as an argument and returns True or False depending on whether the number is symmetrical or not. A number is symmetrical when it is the same as its reverse.\n",
    "Examples\n",
    "is_symmetrical(7227) ➞ True\n",
    "\n",
    "is_symmetrical(12567) ➞ False\n",
    "\n",
    "is_symmetrical(44444444) ➞ True\n",
    "\n",
    "is_symmetrical(9939) ➞ False\n",
    "\n",
    "is_symmetrical(1112111) ➞ True"
   ]
  },
  {
   "cell_type": "code",
   "execution_count": 1,
   "id": "a5d79c18",
   "metadata": {},
   "outputs": [
    {
     "name": "stdout",
     "output_type": "stream",
     "text": [
      "True\n",
      "False\n",
      "True\n",
      "False\n",
      "True\n"
     ]
    }
   ],
   "source": [
    "def is_symmetrical(num):\n",
    "    # Convert the number to a string\n",
    "    num_str = str(num)\n",
    "    \n",
    "    # Check if the string is the same as its reverse\n",
    "    return num_str == num_str[::-1]\n",
    "\n",
    "# Test the function with examples\n",
    "print(is_symmetrical(7227))       # True\n",
    "print(is_symmetrical(12567))      # False\n",
    "print(is_symmetrical(44444444))   # True\n",
    "print(is_symmetrical(9939))       # False\n",
    "print(is_symmetrical(1112111))    # True\n"
   ]
  },
  {
   "cell_type": "raw",
   "id": "c2f248e4",
   "metadata": {},
   "source": [
    "Question 2\n",
    "Given a string of numbers separated by a comma and space, return the product of the numbers.\n",
    "Examples\n",
    "multiply_nums(\"2, 3\") ➞ 6\n",
    "\n",
    "multiply_nums(\"1, 2, 3, 4\") ➞ 24\n",
    "\n",
    "multiply_nums(\"54, 75, 453, 0\") ➞ 0\n",
    "\n",
    "multiply_nums(\"10, -2\") ➞ -20"
   ]
  },
  {
   "cell_type": "code",
   "execution_count": 2,
   "id": "25bd6326",
   "metadata": {},
   "outputs": [
    {
     "name": "stdout",
     "output_type": "stream",
     "text": [
      "6\n",
      "24\n",
      "0\n",
      "-20\n"
     ]
    }
   ],
   "source": [
    "def multiply_nums(nums_str):\n",
    "    # Split the input string by \", \" to get a list of numbers as strings\n",
    "    num_str_list = nums_str.split(\", \")\n",
    "    \n",
    "    # Initialize the product as 1\n",
    "    product = 1\n",
    "    \n",
    "    # Iterate through the list of number strings and multiply them\n",
    "    for num_str in num_str_list:\n",
    "        # Convert the number string to an integer\n",
    "        num = int(num_str)\n",
    "        # Multiply it with the current product\n",
    "        product *= num\n",
    "    \n",
    "    return product\n",
    "\n",
    "# Test the function with examples\n",
    "print(multiply_nums(\"2, 3\"))            # 6\n",
    "print(multiply_nums(\"1, 2, 3, 4\"))       # 24\n",
    "print(multiply_nums(\"54, 75, 453, 0\"))   # 0\n",
    "print(multiply_nums(\"10, -2\"))           # -20\n"
   ]
  },
  {
   "cell_type": "raw",
   "id": "7a80122e",
   "metadata": {},
   "source": [
    "Question 3\n",
    "Create a function that squares every digit of a number.\n",
    "Examples\n",
    "square_digits(9119) ➞ 811181\n",
    "\n",
    "square_digits(2483) ➞ 416649\n",
    "\n",
    "square_digits(3212) ➞ 9414\n",
    "Notes\n",
    "The function receives an integer and must return an integer."
   ]
  },
  {
   "cell_type": "code",
   "execution_count": 3,
   "id": "59e38f7e",
   "metadata": {},
   "outputs": [
    {
     "name": "stdout",
     "output_type": "stream",
     "text": [
      "811181\n",
      "416649\n",
      "9414\n"
     ]
    }
   ],
   "source": [
    "def square_digits(num):\n",
    "    # Convert the number to a string to iterate through its digits\n",
    "    num_str = str(num)\n",
    "    \n",
    "    # Initialize an empty string to store the squared digits\n",
    "    result_str = \"\"\n",
    "    \n",
    "    # Iterate through the digits of the number\n",
    "    for digit_str in num_str:\n",
    "        # Convert the digit string to an integer, square it, and convert it back to a string\n",
    "        squared_digit_str = str(int(digit_str) ** 2)\n",
    "        \n",
    "        # Append the squared digit string to the result string\n",
    "        result_str += squared_digit_str\n",
    "    \n",
    "    # Convert the result string to an integer and return it\n",
    "    return int(result_str)\n",
    "\n",
    "# Test the function with examples\n",
    "print(square_digits(9119))  # 811181\n",
    "print(square_digits(2483))  # 416649\n",
    "print(square_digits(3212))  # 9414\n"
   ]
  },
  {
   "cell_type": "raw",
   "id": "dfb3e187",
   "metadata": {},
   "source": [
    "Question 4\n",
    "Create a function that sorts a list and removes all duplicate items from it.\n",
    "Examples\n",
    "setify([1, 3, 3, 5, 5]) ➞ [1, 3, 5]\n",
    "\n",
    "setify([4, 4, 4, 4]) ➞ [4]\n",
    "\n",
    "setify([5, 7, 8, 9, 10, 15]) ➞ [5, 7, 8, 9, 10, 15]\n",
    "\n",
    "setify([3, 3, 3, 2, 1]) ➞ [1, 2, 3]"
   ]
  },
  {
   "cell_type": "code",
   "execution_count": 4,
   "id": "17022c6a",
   "metadata": {},
   "outputs": [
    {
     "name": "stdout",
     "output_type": "stream",
     "text": [
      "[1, 3, 5]\n",
      "[4]\n",
      "[5, 7, 8, 9, 10, 15]\n",
      "[1, 2, 3]\n"
     ]
    }
   ],
   "source": [
    "def setify(lst):\n",
    "    # Use sorted() to sort the list and use set() to remove duplicates\n",
    "    unique_sorted_lst = sorted(set(lst))\n",
    "    \n",
    "    # Convert the result back to a list and return it\n",
    "    return list(unique_sorted_lst)\n",
    "\n",
    "# Test the function with examples\n",
    "print(setify([1, 3, 3, 5, 5]))  # [1, 3, 5]\n",
    "print(setify([4, 4, 4, 4]))  # [4]\n",
    "print(setify([5, 7, 8, 9, 10, 15]))  # [5, 7, 8, 9, 10, 15]\n",
    "print(setify([3, 3, 3, 2, 1]))  # [1, 2, 3]\n"
   ]
  },
  {
   "cell_type": "raw",
   "id": "ddeb25f4",
   "metadata": {},
   "source": [
    "Question 5\n",
    "Create a function that returns the mean of all digits.\n",
    "Examples\n",
    "mean(42) ➞ 3\n",
    "\n",
    "mean(12345) ➞ 3\n",
    "\n",
    "mean(666) ➞ 6\n",
    "Notes\n",
    "•\tThe mean of all digits is the sum of digits / how many digits there are (e.g. mean of digits in 512 is (5+1+2)/3(number of digits) = 8/3=2).\n",
    "•\tThe mean will always be an integer."
   ]
  },
  {
   "cell_type": "code",
   "execution_count": 5,
   "id": "18569aae",
   "metadata": {},
   "outputs": [
    {
     "name": "stdout",
     "output_type": "stream",
     "text": [
      "3\n",
      "3\n",
      "6\n"
     ]
    }
   ],
   "source": [
    "def mean(num):\n",
    "    # Convert the number to a string\n",
    "    num_str = str(num)\n",
    "    \n",
    "    # Initialize variables to calculate the sum and count of digits\n",
    "    digit_sum = 0\n",
    "    digit_count = 0\n",
    "    \n",
    "    # Iterate through the digits in the string\n",
    "    for digit_char in num_str:\n",
    "        # Convert the digit character back to an integer\n",
    "        digit = int(digit_char)\n",
    "        \n",
    "        # Update the sum and count\n",
    "        digit_sum += digit\n",
    "        digit_count += 1\n",
    "    \n",
    "    # Calculate the mean (sum of digits / number of digits)\n",
    "    if digit_count == 0:\n",
    "        return 0  # Avoid division by zero\n",
    "    else:\n",
    "        return digit_sum // digit_count  # Use integer division for the mean\n",
    "\n",
    "# Test the function with examples\n",
    "print(mean(42))  # 3\n",
    "print(mean(12345))  # 3\n",
    "print(mean(666))  # 6\n"
   ]
  },
  {
   "cell_type": "code",
   "execution_count": null,
   "id": "d490c60c",
   "metadata": {},
   "outputs": [],
   "source": []
  }
 ],
 "metadata": {
  "kernelspec": {
   "display_name": "Python 3 (ipykernel)",
   "language": "python",
   "name": "python3"
  },
  "language_info": {
   "codemirror_mode": {
    "name": "ipython",
    "version": 3
   },
   "file_extension": ".py",
   "mimetype": "text/x-python",
   "name": "python",
   "nbconvert_exporter": "python",
   "pygments_lexer": "ipython3",
   "version": "3.11.3"
  }
 },
 "nbformat": 4,
 "nbformat_minor": 5
}
