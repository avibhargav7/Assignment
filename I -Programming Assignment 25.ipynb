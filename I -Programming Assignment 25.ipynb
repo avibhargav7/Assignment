{
 "cells": [
  {
   "cell_type": "raw",
   "id": "13a2aacf",
   "metadata": {},
   "source": [
    "Question1\n",
    "Create a function that takes three integer arguments (a, b, c) and returns the amount of integers which are of equal value.\n",
    "Examples\n",
    "equal(3, 4, 3) ➞ 2\n",
    "\n",
    "equal(1, 1, 1) ➞ 3\n",
    "\n",
    "equal(3, 4, 1) ➞ 0 \n",
    "Notes\n",
    "Your function must return 0, 2 or 3."
   ]
  },
  {
   "cell_type": "code",
   "execution_count": 1,
   "id": "032607f4",
   "metadata": {},
   "outputs": [
    {
     "name": "stdout",
     "output_type": "stream",
     "text": [
      "2\n",
      "3\n",
      "0\n"
     ]
    }
   ],
   "source": [
    "def equal(a, b, c):\n",
    "    if a == b == c:\n",
    "        return 3\n",
    "    elif a == b or a == c or b == c:\n",
    "        return 2\n",
    "    else:\n",
    "        return 0\n",
    "\n",
    "# Test the function with examples\n",
    "print(equal(3, 4, 3))  # Should return 2\n",
    "print(equal(1, 1, 1))  # Should return 3\n",
    "print(equal(3, 4, 1))  # Should return 0\n"
   ]
  },
  {
   "cell_type": "raw",
   "id": "e43e1e89",
   "metadata": {},
   "source": [
    "Question2\n",
    "Write a function that converts a dictionary into a list of keys-values tuples.\n",
    "Examples\n",
    "dict_to_list({\n",
    "  \"D\": 1,\n",
    "  \"B\": 2,\n",
    "  \"C\": 3\n",
    "}) ➞ [(\"B\", 2), (\"C\", 3), (\"D\", 1)]\n",
    "\n",
    "dict_to_list({\n",
    "  \"likes\": 2,\n",
    "  \"dislikes\": 3,\n",
    "  \"followers\": 10\n",
    "}) ➞ [(\"dislikes\", 3), (\"followers\", 10), (\"likes\", 2)]\n",
    "Notes\n",
    "Return the elements in the list in alphabetical order."
   ]
  },
  {
   "cell_type": "code",
   "execution_count": 2,
   "id": "0852f014",
   "metadata": {},
   "outputs": [
    {
     "name": "stdout",
     "output_type": "stream",
     "text": [
      "[('B', 2), ('C', 3), ('D', 1)]\n",
      "[('dislikes', 3), ('followers', 10), ('likes', 2)]\n"
     ]
    }
   ],
   "source": [
    "def dict_to_list(d):\n",
    "    # Convert the dictionary items into a list of tuples\n",
    "    items = list(d.items())\n",
    "    \n",
    "    # Sort the list of tuples alphabetically by the first element (keys)\n",
    "    items.sort(key=lambda x: x[0])\n",
    "    \n",
    "    return items\n",
    "\n",
    "# Test the function with examples\n",
    "print(dict_to_list({\n",
    "  \"D\": 1,\n",
    "  \"B\": 2,\n",
    "  \"C\": 3\n",
    "}))  # Should return [(\"B\", 2), (\"C\", 3), (\"D\", 1)]\n",
    "\n",
    "print(dict_to_list({\n",
    "  \"likes\": 2,\n",
    "  \"dislikes\": 3,\n",
    "  \"followers\": 10\n",
    "}))  # Should return [(\"dislikes\", 3), (\"followers\", 10), (\"likes\", 2)]\n"
   ]
  },
  {
   "cell_type": "raw",
   "id": "d7cc57dd",
   "metadata": {},
   "source": [
    "Question3\n",
    "Write a function that creates a dictionary with each (key, value) pair being the (lower case, upper case) versions of a letter, respectively.\n",
    "Examples\n",
    "mapping([\"p\", \"s\"]) ➞ { \"p\": \"P\", \"s\": \"S\" }\n",
    "\n",
    "mapping([\"a\", \"b\", \"c\"]) ➞ { \"a\": \"A\", \"b\": \"B\", \"c\": \"C\" }\n",
    "\n",
    "mapping([\"a\", \"v\", \"y\", \"z\"]) ➞ { \"a\": \"A\", \"v\": \"V\", \"y\": \"Y\", \"z\": \"Z\" }\n",
    "Notes\n",
    "All of the letters in the input list will always be lowercase."
   ]
  },
  {
   "cell_type": "code",
   "execution_count": 3,
   "id": "f0f3db00",
   "metadata": {},
   "outputs": [
    {
     "name": "stdout",
     "output_type": "stream",
     "text": [
      "{'p': 'P', 's': 'S'}\n",
      "{'a': 'A', 'b': 'B', 'c': 'C'}\n",
      "{'a': 'A', 'v': 'V', 'y': 'Y', 'z': 'Z'}\n"
     ]
    }
   ],
   "source": [
    "def mapping(letters):\n",
    "    # Create a dictionary using a dictionary comprehension\n",
    "    result = {letter: letter.upper() for letter in letters}\n",
    "    return result\n",
    "\n",
    "# Test the function with examples\n",
    "print(mapping([\"p\", \"s\"]))  # Should return { \"p\": \"P\", \"s\": \"S\" }\n",
    "\n",
    "print(mapping([\"a\", \"b\", \"c\"]))  # Should return { \"a\": \"A\", \"b\": \"B\", \"c\": \"C\" }\n",
    "\n",
    "print(mapping([\"a\", \"v\", \"y\", \"z\"]))  # Should return { \"a\": \"A\", \"v\": \"V\", \"y\": \"Y\", \"z\": \"Z\" }\n"
   ]
  },
  {
   "cell_type": "raw",
   "id": "bbede8c1",
   "metadata": {},
   "source": [
    "Question4\n",
    "Write a function, that replaces all vowels in a string with a specified vowel.\n",
    "Examples\n",
    "vow_replace(\"apples and bananas\", \"u\") ➞ \"upplus und bununus\"\n",
    "\n",
    "vow_replace(\"cheese casserole\", \"o\") ➞ \"chooso cossorolo\"\n",
    "\n",
    "vow_replace(\"stuffed jalapeno poppers\", \"e\") ➞ \"steffed jelepene peppers\"\n",
    "Notes\n",
    "All words will be lowercase. Y is not considered a vowel."
   ]
  },
  {
   "cell_type": "code",
   "execution_count": 4,
   "id": "48beece4",
   "metadata": {},
   "outputs": [
    {
     "name": "stdout",
     "output_type": "stream",
     "text": [
      "upplus und bununus\n",
      "chooso cossorolo\n",
      "steffed jelepene peppers\n"
     ]
    }
   ],
   "source": [
    "def vow_replace(input_string, new_vowel):\n",
    "    # Define a set of vowels\n",
    "    vowels = \"aeiou\"\n",
    "    \n",
    "    # Initialize an empty string to store the result\n",
    "    result = \"\"\n",
    "    \n",
    "    # Iterate through each character in the input string\n",
    "    for char in input_string:\n",
    "        # If the character is a vowel, add the new vowel to the result\n",
    "        if char in vowels:\n",
    "            result += new_vowel\n",
    "        else:\n",
    "            result += char  # Otherwise, add the original character\n",
    "    \n",
    "    return result\n",
    "\n",
    "# Test the function with examples\n",
    "print(vow_replace(\"apples and bananas\", \"u\"))  # Should return \"upplus und bununus\"\n",
    "\n",
    "print(vow_replace(\"cheese casserole\", \"o\"))  # Should return \"chooso cossorolo\"\n",
    "\n",
    "print(vow_replace(\"stuffed jalapeno poppers\", \"e\"))  # Should return \"steffed jelepene peppers\"\n"
   ]
  },
  {
   "cell_type": "raw",
   "id": "2fd370d8",
   "metadata": {},
   "source": [
    "Question5\n",
    "Create a function that takes a string as input and capitalizes a letter if its ASCII code is even and returns its lower case version if its ASCII code is odd.\n",
    "Examples\n",
    "ascii_capitalize(\"to be or not to be!\") ➞ \"To Be oR NoT To Be!\"\n",
    "\n",
    "ascii_capitalize(\"THE LITTLE MERMAID\") ➞ \"THe LiTTLe meRmaiD\"\n",
    "\n",
    "ascii_capitalize(\"Oh what a beautiful morning.\") ➞ \"oH wHaT a BeauTiFuL moRNiNg.\""
   ]
  },
  {
   "cell_type": "code",
   "execution_count": 5,
   "id": "fed44794",
   "metadata": {},
   "outputs": [
    {
     "name": "stdout",
     "output_type": "stream",
     "text": [
      "To Be oR NoT To Be!\n",
      "THe LiTTLe meRmaiD\n",
      "oH wHaT a BeauTiFuL moRNiNg.\n"
     ]
    }
   ],
   "source": [
    "def ascii_capitalize(input_string):\n",
    "    result = \"\"\n",
    "    \n",
    "    for char in input_string:\n",
    "        # Check if the ASCII code of the character is even\n",
    "        if ord(char) % 2 == 0:\n",
    "            result += char.upper()  # Capitalize the character\n",
    "        else:\n",
    "            result += char.lower()  # Convert the character to lowercase\n",
    "    \n",
    "    return result\n",
    "\n",
    "# Test the function with examples\n",
    "print(ascii_capitalize(\"to be or not to be!\"))  # Should return \"To Be oR NoT To Be!\"\n",
    "\n",
    "print(ascii_capitalize(\"THE LITTLE MERMAID\"))  # Should return \"THe LiTTLe meRmaiD\"\n",
    "\n",
    "print(ascii_capitalize(\"Oh what a beautiful morning.\"))  # Should return \"oH wHaT a BeauTiFuL moRNiNg.\"\n"
   ]
  },
  {
   "cell_type": "code",
   "execution_count": null,
   "id": "1af1aa3b",
   "metadata": {},
   "outputs": [],
   "source": []
  }
 ],
 "metadata": {
  "kernelspec": {
   "display_name": "Python 3 (ipykernel)",
   "language": "python",
   "name": "python3"
  },
  "language_info": {
   "codemirror_mode": {
    "name": "ipython",
    "version": 3
   },
   "file_extension": ".py",
   "mimetype": "text/x-python",
   "name": "python",
   "nbconvert_exporter": "python",
   "pygments_lexer": "ipython3",
   "version": "3.11.3"
  }
 },
 "nbformat": 4,
 "nbformat_minor": 5
}
