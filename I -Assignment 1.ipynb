{
 "cells": [
  {
   "cell_type": "raw",
   "id": "d17a8f6b",
   "metadata": {},
   "source": [
    "1. In the below elements which of them are values or an expression? eg:- values can be integer or string and expressions will be mathematical operators.\n",
    "* \n",
    "'hello'\n",
    "-87.8\n",
    "- \n",
    "/ \n",
    "+\n",
    "6 \n"
   ]
  },
  {
   "cell_type": "raw",
   "id": "a12af3fb",
   "metadata": {},
   "source": [
    "Operators: +.-,*,/\n",
    "Values: 'hello',-88.5,5"
   ]
  },
  {
   "cell_type": "raw",
   "id": "f7e78ad9",
   "metadata": {},
   "source": [
    "2. What is the difference between string and variable?"
   ]
  },
  {
   "cell_type": "raw",
   "id": "bb662afa",
   "metadata": {},
   "source": [
    "spam\n",
    "'spam'\n",
    "\n",
    "Variable: spam\n",
    "String: 'spam'\n",
    "\n",
    "Strings always start and end with quotes"
   ]
  },
  {
   "cell_type": "raw",
   "id": "1ebc3e1c",
   "metadata": {},
   "source": [
    "3. Describe three different data types."
   ]
  },
  {
   "cell_type": "raw",
   "id": "35fba5f4",
   "metadata": {},
   "source": [
    "Integer (int):\n",
    "\n",
    "An integer is a data type used to represent whole numbers, both positive and negative, without any fractional or decimal part.\n",
    "Examples of integers: -5, 0, 42, 1001, -9876.\n",
    "Integers are often used for counting, indexing, and performing arithmetic operations.\n",
    "\n",
    "String (str):\n",
    "A string is a data type used to represent sequences of characters, such as text or symbols.\n",
    "Strings are typically enclosed in single quotes (' '), double quotes (\" \"), or triple quotes for multi-line strings (''' ''' or \"\"\" \"\"\").\n",
    "Examples of strings: \"Hello, World!\", 'Python Programming', \"12345\".\n",
    "Strings are versatile and are used for working with textual data in programming.\n",
    "\n",
    "Floating-Point (float):\n",
    "A floating-point number is a data type used to represent real numbers with a fractional part.\n",
    "Examples of floating-point numbers: -3.14, 0.0, 2.71828, 123.456.\n",
    "Floating-point numbers are used for calculations involving decimal values, such as scientific calculations, financial calculations, and measurements."
   ]
  },
  {
   "cell_type": "raw",
   "id": "e0492087",
   "metadata": {},
   "source": [
    "4. What is an expression made up of? What do all expressions do?"
   ]
  },
  {
   "cell_type": "markdown",
   "id": "706875e7",
   "metadata": {},
   "source": [
    "An expression is a combination of values and operators. All expressions evaluate (that is, reduce) to a single value."
   ]
  },
  {
   "cell_type": "raw",
   "id": "6c91f17e",
   "metadata": {},
   "source": [
    "result = a + b * c\n",
    "\n",
    "where \n",
    "result - variable to store the expression value\n",
    "a - operand1\n",
    "+ - operator1\n",
    "b - operand2\n",
    "* - operator2\n",
    "c - operand3"
   ]
  },
  {
   "cell_type": "markdown",
   "id": "3d7561d9",
   "metadata": {},
   "source": [
    "### Type of Expressions\n",
    "#### Constant expressions: \n",
    "Constant Expressions consists of only constant values. A constant value is one that doesn’t change.\n",
    "\n",
    "Examples:\n",
    "5, 10 + 5 / 6.0, 'x’\n",
    "\n",
    "##### Integral expressions: \n",
    "Integral Expressions are those which produce integer results after implementing all the automatic and explicit type conversions.\n",
    "\n",
    "Examples:\n",
    "x, x * y, x + int( 5.0)\n",
    "\n",
    "where x and y are integer variables.\n",
    "\n",
    "##### Floating expressions: \n",
    "Float Expressions are which produce floating point results after implementing all the automatic and explicit type conversions.\n",
    "\n",
    "Examples:\n",
    "x + y, 10.75\n",
    "where x and y are floating point variables.\n",
    "\n",
    "##### Relational expressions: \n",
    "Relational Expressions yield results of type bool which takes a value true or false. When arithmetic expressions are used on either side of a relational operator, they will be evaluated first and then the results compared.\n",
    "    \n",
    "Relational expressions are also known as Boolean expressions.\n",
    "\n",
    "Examples:\n",
    "x <= y, x + y > 2\n",
    "##### Logical expressions: \n",
    "Logical Expressions combine two or more relational expressions and produces bool type results.\n",
    "Examples:\n",
    " x > y && x == 10, x == 10 || y == 5 \n",
    "\n",
    "##### Pointer expressions: \n",
    "Pointer Expressions produce address values.\n",
    "Examples:\n",
    "&x, ptr, ptr++\n",
    "where x is a variable and ptr is a pointer.\n",
    "\n",
    "##### Bitwise expressions: \n",
    "Bitwise Expressions are used to manipulate data at bit level. They are basically used for testing or shifting bits.\n",
    "Examples:\n",
    "x << 3\n",
    "shifts three bit position to left\n",
    "\n",
    "y >> 1\n",
    "shifts one bit position to right.\n",
    "\n",
    "Shift operators are often used for multiplication and division by powers of two.\n",
    "\n",
    "Note: An expression may also use combinations of the above expressions. Such expressions are known as compound expressions.\n"
   ]
  },
  {
   "cell_type": "markdown",
   "id": "eacdf77c",
   "metadata": {},
   "source": [
    "In your example, spam = 10 is a statement because it assigns the value 10 to the variable spam, but it doesn't produce a value that can be used in further calculations. On the other hand, 10 by itself is an expression because it represents the value 10, and you can use it in calculations or assign it to a variable.\n",
    "\n",
    "To summarize, expressions are elements of code that produce values, while statements are complete instructions or actions that often involve expressions but don't necessarily produce values themselves"
   ]
  },
  {
   "cell_type": "raw",
   "id": "531b916b",
   "metadata": {},
   "source": [
    "5. This assignment statements, like spam = 10. What is the difference between an expression and a statement?"
   ]
  },
  {
   "cell_type": "code",
   "execution_count": 1,
   "id": "b82d5085",
   "metadata": {},
   "outputs": [],
   "source": [
    "spam = 10"
   ]
  },
  {
   "cell_type": "markdown",
   "id": "d71ebdce",
   "metadata": {},
   "source": [
    "- spam is a variable, specifically an identifier that can hold a value.\n",
    "- 10 is an expression, specifically a numeric literal that represents the value 10.\n",
    "- spam = 10 is an assignment statement. It combines the variable spam and the expression 10 and assigns the value 10 to the variable spam.\n",
    "\n",
    "To summarize:\n",
    "\n",
    "- An expression is a combination of values, variables, operators, and/or function calls that can be evaluated to produce a single value. 10 is an expression because it produces the value 10.\n",
    "- A statement is a complete line of code that performs an action. spam = 10 is a statement because it assigns the value produced by the expression 10 to the variable spam. Statements don't necessarily produce values themselves; instead, they perform actions or assignments in a program."
   ]
  },
  {
   "cell_type": "raw",
   "id": "ff8a104a",
   "metadata": {},
   "source": [
    "6. After running the following code, what does the variable bacon contain?\n",
    "bacon = 22\n",
    "bacon + 1"
   ]
  },
  {
   "cell_type": "code",
   "execution_count": 2,
   "id": "4811e387",
   "metadata": {},
   "outputs": [
    {
     "data": {
      "text/plain": [
       "23"
      ]
     },
     "execution_count": 2,
     "metadata": {},
     "output_type": "execute_result"
    }
   ],
   "source": [
    "bacon = 22\n",
    "bacon + 1"
   ]
  },
  {
   "cell_type": "markdown",
   "id": "edf86834",
   "metadata": {},
   "source": [
    "The bacon variable is set to 22. The bacon + 1 expression does not reassign the value in bacon"
   ]
  },
  {
   "cell_type": "raw",
   "id": "15cf758f",
   "metadata": {},
   "source": [
    "7. What should the values of the following two terms be?\n",
    "'spam' + 'spamspam'\n",
    "'spam' * 3"
   ]
  },
  {
   "cell_type": "code",
   "execution_count": 4,
   "id": "64a1ce9a",
   "metadata": {},
   "outputs": [
    {
     "data": {
      "text/plain": [
       "'spamspamspam'"
      ]
     },
     "execution_count": 4,
     "metadata": {},
     "output_type": "execute_result"
    }
   ],
   "source": [
    "'spam' + 'spamspam'"
   ]
  },
  {
   "cell_type": "code",
   "execution_count": 5,
   "id": "439330cb",
   "metadata": {},
   "outputs": [
    {
     "data": {
      "text/plain": [
       "'spamspamspam'"
      ]
     },
     "execution_count": 5,
     "metadata": {},
     "output_type": "execute_result"
    }
   ],
   "source": [
    "'spam' * 3"
   ]
  },
  {
   "cell_type": "raw",
   "id": "13829389",
   "metadata": {},
   "source": [
    "8. Why is eggs a valid variable name while 100 is invalid?"
   ]
  },
  {
   "cell_type": "markdown",
   "id": "b7fcdcf3",
   "metadata": {},
   "source": [
    "Variables names cannot begin with a number"
   ]
  },
  {
   "cell_type": "raw",
   "id": "2e499569",
   "metadata": {},
   "source": [
    "9. What three functions can be used to get the integer, floating-point number, or string version of a value?"
   ]
  },
  {
   "cell_type": "markdown",
   "id": "e7bbbaa8",
   "metadata": {},
   "source": [
    "The int(), float(), and str() functions will evaluate to the integer, floating-point number, and string versions of the value passed to them."
   ]
  },
  {
   "cell_type": "raw",
   "id": "70b8fcbb",
   "metadata": {},
   "source": [
    "10. Why does this expression cause an error? How can you fix it?\n",
    "'I have eaten ' + 99 + ' burritos.'"
   ]
  },
  {
   "cell_type": "markdown",
   "id": "8e60e2de",
   "metadata": {},
   "source": [
    "The expression causes an error because 99 is an integer, and only strings can be concatenated to other strings with the + operator. The correct way is "
   ]
  },
  {
   "cell_type": "code",
   "execution_count": 6,
   "id": "66cdf67b",
   "metadata": {},
   "outputs": [
    {
     "data": {
      "text/plain": [
       "'I have eaten 99 burritos.'"
      ]
     },
     "execution_count": 6,
     "metadata": {},
     "output_type": "execute_result"
    }
   ],
   "source": [
    "'I have eaten ' + str(99) + ' burritos.'"
   ]
  },
  {
   "cell_type": "code",
   "execution_count": null,
   "id": "56e45197",
   "metadata": {},
   "outputs": [],
   "source": []
  }
 ],
 "metadata": {
  "kernelspec": {
   "display_name": "Python 3 (ipykernel)",
   "language": "python",
   "name": "python3"
  },
  "language_info": {
   "codemirror_mode": {
    "name": "ipython",
    "version": 3
   },
   "file_extension": ".py",
   "mimetype": "text/x-python",
   "name": "python",
   "nbconvert_exporter": "python",
   "pygments_lexer": "ipython3",
   "version": "3.11.3"
  }
 },
 "nbformat": 4,
 "nbformat_minor": 5
}
