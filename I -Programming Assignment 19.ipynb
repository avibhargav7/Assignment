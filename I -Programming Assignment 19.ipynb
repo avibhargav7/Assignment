{
 "cells": [
  {
   "cell_type": "raw",
   "id": "353ee231",
   "metadata": {},
   "source": [
    "Question1\n",
    "Create a function that takes a string and returns a string in which each character is repeated once.\n",
    "Examples\n",
    "double_char(\"String\") ➞ \"SSttrriinngg\"\n",
    "\n",
    "double_char(\"Hello World!\") ➞ \"HHeelllloo  WWoorrlldd!!\"\n",
    "\n",
    "double_char(\"1234!_ \") ➞ \"11223344!!__  \""
   ]
  },
  {
   "cell_type": "code",
   "execution_count": 1,
   "id": "333b7b82",
   "metadata": {},
   "outputs": [
    {
     "name": "stdout",
     "output_type": "stream",
     "text": [
      "SSttrriinngg\n",
      "HHeelllloo  WWoorrlldd!!\n",
      "11223344!!__  \n"
     ]
    }
   ],
   "source": [
    "def double_char(input_string):\n",
    "    result = \"\"\n",
    "    for char in input_string:\n",
    "        result += char * 2\n",
    "    return result\n",
    "\n",
    "# Test the function with examples\n",
    "print(double_char(\"String\"))         # \"SSttrriinngg\"\n",
    "print(double_char(\"Hello World!\"))   # \"HHeelllloo  WWoorrlldd!!\"\n",
    "print(double_char(\"1234!_ \"))       # \"11223344!!__  \"\n"
   ]
  },
  {
   "cell_type": "raw",
   "id": "10db8260",
   "metadata": {},
   "source": [
    "Question2\n",
    "Create a function that reverses a boolean value and returns the string \"boolean expected\" if another variable type is given.\n",
    "Examples\n",
    "reverse(True) ➞ False\n",
    "\n",
    "reverse(False) ➞ True\n",
    "\n",
    "reverse(0) ➞ \"boolean expected\"\n",
    "\n",
    "reverse(None) ➞ \"boolean expected\""
   ]
  },
  {
   "cell_type": "code",
   "execution_count": 2,
   "id": "aacc46ac",
   "metadata": {},
   "outputs": [
    {
     "name": "stdout",
     "output_type": "stream",
     "text": [
      "False\n",
      "True\n",
      "boolean expected\n",
      "boolean expected\n"
     ]
    }
   ],
   "source": [
    "def reverse(value):\n",
    "    if isinstance(value, bool):\n",
    "        return not value\n",
    "    else:\n",
    "        return \"boolean expected\"\n",
    "\n",
    "# Test the function with examples\n",
    "print(reverse(True))    # False\n",
    "print(reverse(False))   # True\n",
    "print(reverse(0))       # \"boolean expected\"\n",
    "print(reverse(None))    # \"boolean expected\"\n"
   ]
  },
  {
   "cell_type": "raw",
   "id": "8a9b8dfb",
   "metadata": {},
   "source": [
    "Question3\n",
    "Create a function that returns the thickness (in meters) of a piece of paper after folding it n number of times. The paper starts off with a thickness of 0.5mm.\n",
    "Examples\n",
    "num_layers(1) ➞ \"0.001m\"\n",
    "# Paper folded once is 1mm (equal to 0.001m)\n",
    "\n",
    "num_layers(4) ➞ \"0.008m\"\n",
    "# Paper folded 4 times is 8mm (equal to 0.008m)\n",
    "\n",
    "num_layers(21) ➞ \"1048.576m\"\n",
    "# Paper folded 21 times is 1048576mm (equal to 1048.576m)"
   ]
  },
  {
   "cell_type": "code",
   "execution_count": 3,
   "id": "df663a37",
   "metadata": {},
   "outputs": [
    {
     "name": "stdout",
     "output_type": "stream",
     "text": [
      "0.001m\n",
      "0.008m\n",
      "1048.576m\n"
     ]
    }
   ],
   "source": [
    "def num_layers(n):\n",
    "    # Initial thickness of the paper in millimeters\n",
    "    thickness_mm = 0.5\n",
    "\n",
    "    # Calculate the thickness after folding n times\n",
    "    for _ in range(n):\n",
    "        thickness_mm *= 2\n",
    "\n",
    "    # Convert the thickness to meters (1 meter = 1000 millimeters)\n",
    "    thickness_m = thickness_mm / 1000\n",
    "\n",
    "    # Format the result as a string with 3 decimal places\n",
    "    return \"{:.3f}m\".format(thickness_m)\n",
    "\n",
    "# Test the function with examples\n",
    "print(num_layers(1))    # \"0.001m\"\n",
    "print(num_layers(4))    # \"0.008m\"\n",
    "print(num_layers(21))   # \"1048.576m\"\n"
   ]
  },
  {
   "cell_type": "raw",
   "id": "13b76e3c",
   "metadata": {},
   "source": [
    "Question4\n",
    "Create a function that takes a single string as argument and returns an ordered list containing the indices of all capital letters in the string.\n",
    "Examples\n",
    "index_of_caps(\"eDaBiT\") ➞ [1, 3, 5]\n",
    "\n",
    "index_of_caps(\"eQuINoX\") ➞ [1, 3, 4, 6]\n",
    "\n",
    "index_of_caps(\"determine\") ➞ []\n",
    "\n",
    "index_of_caps(\"STRIKE\") ➞ [0, 1, 2, 3, 4, 5]\n",
    "\n",
    "index_of_caps(\"sUn\") ➞ [1]"
   ]
  },
  {
   "cell_type": "code",
   "execution_count": 4,
   "id": "abbedf3a",
   "metadata": {},
   "outputs": [
    {
     "name": "stdout",
     "output_type": "stream",
     "text": [
      "[1, 3, 5]\n",
      "[1, 3, 4, 6]\n",
      "[]\n",
      "[0, 1, 2, 3, 4, 5]\n",
      "[1]\n"
     ]
    }
   ],
   "source": [
    "def index_of_caps(input_string):\n",
    "    # Initialize an empty list to store the indices of capital letters\n",
    "    indices = []\n",
    "\n",
    "    # Iterate through the characters and their indices in the string\n",
    "    for index, char in enumerate(input_string):\n",
    "        if char.isupper():\n",
    "            # If the character is uppercase, add its index to the list\n",
    "            indices.append(index)\n",
    "\n",
    "    return indices\n",
    "\n",
    "# Test the function with examples\n",
    "print(index_of_caps(\"eDaBiT\"))     # [1, 3, 5]\n",
    "print(index_of_caps(\"eQuINoX\"))    # [1, 3, 4, 6]\n",
    "print(index_of_caps(\"determine\"))   # []\n",
    "print(index_of_caps(\"STRIKE\"))      # [0, 1, 2, 3, 4, 5]\n",
    "print(index_of_caps(\"sUn\"))         # [1]\n"
   ]
  },
  {
   "cell_type": "raw",
   "id": "c538129b",
   "metadata": {},
   "source": [
    "Question5\n",
    "Using list comprehensions, create a function that finds all even numbers from 1 to the given number.\n",
    "Examples\n",
    "find_even_nums(8) ➞ [2, 4, 6, 8]\n",
    "\n",
    "find_even_nums(4) ➞ [2, 4]\n",
    "\n",
    "find_even_nums(2) ➞ [2]"
   ]
  },
  {
   "cell_type": "code",
   "execution_count": 5,
   "id": "a56857ee",
   "metadata": {},
   "outputs": [
    {
     "name": "stdout",
     "output_type": "stream",
     "text": [
      "[2, 4, 6, 8]\n",
      "[2, 4]\n",
      "[2]\n"
     ]
    }
   ],
   "source": [
    "def find_even_nums(n):\n",
    "    # Use a list comprehension to generate a list of even numbers\n",
    "    even_numbers = [x for x in range(1, n + 1) if x % 2 == 0]\n",
    "    return even_numbers\n",
    "\n",
    "# Test the function with examples\n",
    "print(find_even_nums(8))  # [2, 4, 6, 8]\n",
    "print(find_even_nums(4))  # [2, 4]\n",
    "print(find_even_nums(2))  # [2]\n"
   ]
  },
  {
   "cell_type": "code",
   "execution_count": null,
   "id": "859f7292",
   "metadata": {},
   "outputs": [],
   "source": []
  }
 ],
 "metadata": {
  "kernelspec": {
   "display_name": "Python 3 (ipykernel)",
   "language": "python",
   "name": "python3"
  },
  "language_info": {
   "codemirror_mode": {
    "name": "ipython",
    "version": 3
   },
   "file_extension": ".py",
   "mimetype": "text/x-python",
   "name": "python",
   "nbconvert_exporter": "python",
   "pygments_lexer": "ipython3",
   "version": "3.11.3"
  }
 },
 "nbformat": 4,
 "nbformat_minor": 5
}
