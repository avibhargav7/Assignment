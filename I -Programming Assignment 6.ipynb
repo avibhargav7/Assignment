{
 "cells": [
  {
   "cell_type": "raw",
   "id": "d37f90df",
   "metadata": {},
   "source": [
    "1.\tWrite a Python Program to Display Fibonacci Sequence Using Recursion?"
   ]
  },
  {
   "cell_type": "code",
   "execution_count": 1,
   "id": "bab19280",
   "metadata": {},
   "outputs": [
    {
     "name": "stdout",
     "output_type": "stream",
     "text": [
      "Enter the number of Fibonacci terms to generate: 4\n",
      "Fibonacci Sequence:\n",
      "[0, 1, 1, 2]\n"
     ]
    }
   ],
   "source": [
    "# Function to generate Fibonacci sequence using recursion\n",
    "def fibonacci(n):\n",
    "    if n <= 0:\n",
    "        return []\n",
    "    elif n == 1:\n",
    "        return [0]\n",
    "    elif n == 2:\n",
    "        return [0, 1]\n",
    "    else:\n",
    "        fib_sequence = fibonacci(n - 1)\n",
    "        fib_sequence.append(fib_sequence[-1] + fib_sequence[-2])\n",
    "        return fib_sequence\n",
    "\n",
    "# Input the number of terms you want to display\n",
    "n = int(input(\"Enter the number of Fibonacci terms to generate: \"))\n",
    "\n",
    "if n <= 0:\n",
    "    print(\"Invalid input. Please enter a positive integer.\")\n",
    "else:\n",
    "    result = fibonacci(n)\n",
    "    print(\"Fibonacci Sequence:\")\n",
    "    print(result)\n"
   ]
  },
  {
   "cell_type": "raw",
   "id": "50ae3b06",
   "metadata": {},
   "source": [
    "2.\tWrite a Python Program to Find Factorial of Number Using Recursion?"
   ]
  },
  {
   "cell_type": "code",
   "execution_count": 2,
   "id": "314adc45",
   "metadata": {},
   "outputs": [
    {
     "name": "stdout",
     "output_type": "stream",
     "text": [
      "Enter a non-negative integer: 45\n",
      "The factorial of 45 is 119622220865480194561963161495657715064383733760000000000\n"
     ]
    }
   ],
   "source": [
    "# Function to calculate factorial using recursion\n",
    "def factorial(n):\n",
    "    if n == 0:\n",
    "        return 1\n",
    "    else:\n",
    "        return n * factorial(n - 1)\n",
    "\n",
    "# Input the number for which you want to find the factorial\n",
    "num = int(input(\"Enter a non-negative integer: \"))\n",
    "\n",
    "if num < 0:\n",
    "    print(\"Factorial is not defined for negative numbers.\")\n",
    "else:\n",
    "    result = factorial(num)\n",
    "    print(f\"The factorial of {num} is {result}\")\n"
   ]
  },
  {
   "cell_type": "raw",
   "id": "ecbbebe2",
   "metadata": {},
   "source": [
    "3.\tWrite a Python Program to calculate your Body Mass Index?"
   ]
  },
  {
   "cell_type": "code",
   "execution_count": 3,
   "id": "1b19fa0f",
   "metadata": {},
   "outputs": [
    {
     "name": "stdout",
     "output_type": "stream",
     "text": [
      "Enter your weight in kilograms: 4\n",
      "Enter your height in meters: 5\n",
      "Your Body Mass Index (BMI) is: 0.16\n",
      "You are underweight.\n"
     ]
    }
   ],
   "source": [
    "# Function to calculate BMI\n",
    "def calculate_bmi(weight_kg, height_m):\n",
    "    return weight_kg / (height_m ** 2)\n",
    "\n",
    "# Input weight and height from the user\n",
    "weight_kg = float(input(\"Enter your weight in kilograms: \"))\n",
    "height_m = float(input(\"Enter your height in meters: \"))\n",
    "\n",
    "# Calculate BMI\n",
    "bmi = calculate_bmi(weight_kg, height_m)\n",
    "\n",
    "# Display the result\n",
    "print(f\"Your Body Mass Index (BMI) is: {bmi:.2f}\")\n",
    "\n",
    "# Interpret the BMI\n",
    "if bmi < 18.5:\n",
    "    print(\"You are underweight.\")\n",
    "elif 18.5 <= bmi < 24.9:\n",
    "    print(\"Your weight is normal.\")\n",
    "elif 25 <= bmi < 29.9:\n",
    "    print(\"You are overweight.\")\n",
    "else:\n",
    "    print(\"You are obese.\")\n"
   ]
  },
  {
   "cell_type": "raw",
   "id": "3db92509",
   "metadata": {},
   "source": [
    "4.\tWrite a Python Program to calculate the natural logarithm of any number?"
   ]
  },
  {
   "cell_type": "code",
   "execution_count": 4,
   "id": "22131661",
   "metadata": {},
   "outputs": [
    {
     "name": "stdout",
     "output_type": "stream",
     "text": [
      "Enter a number: 5\n",
      "The natural logarithm of 5.0 is 1.6094\n"
     ]
    }
   ],
   "source": [
    "import math\n",
    "\n",
    "# Input a number from the user\n",
    "number = float(input(\"Enter a number: \"))\n",
    "\n",
    "# Calculate the natural logarithm\n",
    "result = math.log(number)\n",
    "\n",
    "# Display the result\n",
    "print(f\"The natural logarithm of {number} is {result:.4f}\")\n"
   ]
  },
  {
   "cell_type": "raw",
   "id": "7d7d8b8b",
   "metadata": {},
   "source": [
    "5.\tWrite a Python Program for cube sum of first n natural numbers?"
   ]
  },
  {
   "cell_type": "code",
   "execution_count": 5,
   "id": "e4247fff",
   "metadata": {},
   "outputs": [
    {
     "name": "stdout",
     "output_type": "stream",
     "text": [
      "Enter the value of n: 4\n",
      "The cube sum of the first 4 natural numbers is 100\n"
     ]
    }
   ],
   "source": [
    "# Input the value of n\n",
    "n = int(input(\"Enter the value of n: \"))\n",
    "\n",
    "# Initialize the sum to 0\n",
    "cube_sum = 0\n",
    "\n",
    "# Calculate the cube sum of the first n natural numbers\n",
    "for i in range(1, n + 1):\n",
    "    cube_sum += i ** 3\n",
    "\n",
    "# Display the cube sum\n",
    "print(f\"The cube sum of the first {n} natural numbers is {cube_sum}\")\n"
   ]
  },
  {
   "cell_type": "code",
   "execution_count": null,
   "id": "91b54650",
   "metadata": {},
   "outputs": [],
   "source": []
  }
 ],
 "metadata": {
  "kernelspec": {
   "display_name": "Python 3 (ipykernel)",
   "language": "python",
   "name": "python3"
  },
  "language_info": {
   "codemirror_mode": {
    "name": "ipython",
    "version": 3
   },
   "file_extension": ".py",
   "mimetype": "text/x-python",
   "name": "python",
   "nbconvert_exporter": "python",
   "pygments_lexer": "ipython3",
   "version": "3.11.3"
  }
 },
 "nbformat": 4,
 "nbformat_minor": 5
}
