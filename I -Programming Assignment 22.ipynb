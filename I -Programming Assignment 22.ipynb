{
 "cells": [
  {
   "cell_type": "raw",
   "id": "e56ed1a2",
   "metadata": {},
   "source": [
    "Question1\n",
    "Create a function that takes three parameters where:\n",
    "•\tx is the start of the range (inclusive).\n",
    "•\ty is the end of the range (inclusive).\n",
    "•\tn is the divisor to be checked against.\n",
    "Return an ordered list with numbers in the range that are divisible by the third parameter n. Return an empty list if there are no numbers that are divisible by n.\n",
    "Examples\n",
    "list_operation(1, 10, 3) ➞ [3, 6, 9]\n",
    "\n",
    "list_operation(7, 9, 2) ➞ [8]\n",
    "\n",
    "list_operation(15, 20, 7) ➞ []"
   ]
  },
  {
   "cell_type": "code",
   "execution_count": 1,
   "id": "c9384c4f",
   "metadata": {},
   "outputs": [
    {
     "name": "stdout",
     "output_type": "stream",
     "text": [
      "[3, 6, 9]\n",
      "[8]\n",
      "[]\n"
     ]
    }
   ],
   "source": [
    "def list_operation(x, y, n):\n",
    "    # Use list comprehension to generate the list of divisible numbers\n",
    "    result = [i for i in range(x, y + 1) if i % n == 0]\n",
    "    return result\n",
    "\n",
    "# Test the function with examples\n",
    "print(list_operation(1, 10, 3))  # [3, 6, 9]\n",
    "print(list_operation(7, 9, 2))   # [8]\n",
    "print(list_operation(15, 20, 7)) # []\n"
   ]
  },
  {
   "cell_type": "raw",
   "id": "69805f37",
   "metadata": {},
   "source": [
    "Question2\n",
    "Create a function that takes in two lists and returns True if the second list follows the first list by one element, and False otherwise. In other words, determine if the second list is the first list shifted to the right by 1.\n",
    "Examples\n",
    "simon_says([1, 2], [5, 1]) ➞ True\n",
    "\n",
    "simon_says([1, 2], [5, 5]) ➞ False\n",
    "\n",
    "simon_says([1, 2, 3, 4, 5], [0, 1, 2, 3, 4]) ➞ True\n",
    "\n",
    "simon_says([1, 2, 3, 4, 5], [5, 5, 1, 2, 3]) ➞ False\n",
    "Notes\n",
    "•\tBoth input lists will be of the same length, and will have a minimum length of 2.\n",
    "•\tThe values of the 0-indexed element in the second list and the n-1th indexed element in the first list do not matter."
   ]
  },
  {
   "cell_type": "code",
   "execution_count": 2,
   "id": "9f8d8589",
   "metadata": {},
   "outputs": [
    {
     "name": "stdout",
     "output_type": "stream",
     "text": [
      "True\n",
      "False\n",
      "True\n",
      "False\n"
     ]
    }
   ],
   "source": [
    "def simon_says(list1, list2):\n",
    "    # Check if list2 is a rotation of list1 by one element to the right\n",
    "    return list1[:-1] == list2[1:]\n",
    "\n",
    "# Test the function with examples\n",
    "print(simon_says([1, 2], [5, 1]))                  # True\n",
    "print(simon_says([1, 2], [5, 5]))                  # False\n",
    "print(simon_says([1, 2, 3, 4, 5], [0, 1, 2, 3, 4])) # True\n",
    "print(simon_says([1, 2, 3, 4, 5], [5, 5, 1, 2, 3])) # False\n"
   ]
  },
  {
   "cell_type": "raw",
   "id": "37c21b88",
   "metadata": {},
   "source": [
    "Question3\n",
    "A group of friends have decided to start a secret society. The name will be the first letter of each of their names, sorted in alphabetical order.\n",
    "Create a function that takes in a list of names and returns the name of the secret society.\n",
    "Examples\n",
    "society_name([\"Adam\", \"Sarah\", \"Malcolm\"]) ➞ \"AMS\"\n",
    "\n",
    "society_name([\"Harry\", \"Newt\", \"Luna\", \"Cho\"]) ➞ \"CHLN\"\n",
    "\n",
    "society_name([\"Phoebe\", \"Chandler\", \"Rachel\", \"Ross\", \"Monica\", \"Joey\"])"
   ]
  },
  {
   "cell_type": "code",
   "execution_count": 3,
   "id": "12bcfeed",
   "metadata": {},
   "outputs": [
    {
     "name": "stdout",
     "output_type": "stream",
     "text": [
      "AMS\n",
      "CHLN\n",
      "CJMPRR\n"
     ]
    }
   ],
   "source": [
    "def society_name(names):\n",
    "    # Extract the first letter of each name and join them\n",
    "    initials = \"\".join([name[0] for name in names])\n",
    "    \n",
    "    # Sort the initials alphabetically\n",
    "    sorted_initials = sorted(initials)\n",
    "    \n",
    "    # Convert the sorted initials back to a string\n",
    "    secret_name = \"\".join(sorted_initials)\n",
    "    \n",
    "    return secret_name\n",
    "\n",
    "# Test the function with examples\n",
    "print(society_name([\"Adam\", \"Sarah\", \"Malcolm\"]))               # \"AMS\"\n",
    "print(society_name([\"Harry\", \"Newt\", \"Luna\", \"Cho\"]))           # \"CHLN\"\n",
    "print(society_name([\"Phoebe\", \"Chandler\", \"Rachel\", \"Ross\", \"Monica\", \"Joey\"]))  # \"CJMPRR\"\n"
   ]
  },
  {
   "cell_type": "raw",
   "id": "74795c79",
   "metadata": {},
   "source": [
    "Question4\n",
    "An isogram is a word that has no duplicate letters. Create a function that takes a string and returns either True or False depending on whether or not it's an \"isogram\".\n",
    "Examples\n",
    "is_isogram(\"Algorism\") ➞ True\n",
    "\n",
    "is_isogram(\"PasSword\") ➞ False\n",
    "# Not case sensitive.\n",
    "\n",
    "is_isogram(\"Consecutive\") ➞ False\n",
    "Notes\n",
    "•\tIgnore letter case (should not be case sensitive).\n",
    "•\tAll test cases contain valid one word strings."
   ]
  },
  {
   "cell_type": "code",
   "execution_count": 4,
   "id": "cd8177dd",
   "metadata": {},
   "outputs": [
    {
     "name": "stdout",
     "output_type": "stream",
     "text": [
      "True\n",
      "False\n",
      "False\n"
     ]
    }
   ],
   "source": [
    "def is_isogram(word):\n",
    "    # Convert the word to lowercase\n",
    "    lowercase_word = word.lower()\n",
    "    \n",
    "    # Check if the length of the set of characters is equal to the length of the word\n",
    "    return len(set(lowercase_word)) == len(word)\n",
    "\n",
    "# Test the function with examples\n",
    "print(is_isogram(\"Algorism\"))       # True\n",
    "print(is_isogram(\"PasSword\"))       # False\n",
    "print(is_isogram(\"Consecutive\"))    # False\n"
   ]
  },
  {
   "cell_type": "raw",
   "id": "6726a052",
   "metadata": {},
   "source": [
    "Question5\n",
    "Create a function that takes a string and returns True or False, depending on whether the characters are in order or not.\n",
    "Examples\n",
    "is_in_order(\"abc\") ➞ True\n",
    "\n",
    "is_in_order(\"edabit\") ➞ False\n",
    "\n",
    "is_in_order(\"123\") ➞ True\n",
    "\n",
    "is_in_order(\"xyzz\") ➞ True\n",
    "Notes\n",
    "You don't have to handle empty strings."
   ]
  },
  {
   "cell_type": "code",
   "execution_count": 5,
   "id": "fbd40bae",
   "metadata": {},
   "outputs": [
    {
     "name": "stdout",
     "output_type": "stream",
     "text": [
      "True\n",
      "False\n",
      "True\n",
      "True\n"
     ]
    }
   ],
   "source": [
    "def is_in_order(s):\n",
    "    # Iterate through the string from the first character to the second-to-last character\n",
    "    for i in range(len(s) - 1):\n",
    "        # Compare the current character with the next character\n",
    "        if s[i] > s[i + 1]:\n",
    "            return False\n",
    "    # If all characters are in order, return True\n",
    "    return True\n",
    "\n",
    "# Test the function with examples\n",
    "print(is_in_order(\"abc\"))      # True\n",
    "print(is_in_order(\"edabit\"))   # False\n",
    "print(is_in_order(\"123\"))      # True\n",
    "print(is_in_order(\"xyzz\"))     # True\n"
   ]
  },
  {
   "cell_type": "code",
   "execution_count": null,
   "id": "e7cf6bc0",
   "metadata": {},
   "outputs": [],
   "source": []
  }
 ],
 "metadata": {
  "kernelspec": {
   "display_name": "Python 3 (ipykernel)",
   "language": "python",
   "name": "python3"
  },
  "language_info": {
   "codemirror_mode": {
    "name": "ipython",
    "version": 3
   },
   "file_extension": ".py",
   "mimetype": "text/x-python",
   "name": "python",
   "nbconvert_exporter": "python",
   "pygments_lexer": "ipython3",
   "version": "3.11.3"
  }
 },
 "nbformat": 4,
 "nbformat_minor": 5
}
